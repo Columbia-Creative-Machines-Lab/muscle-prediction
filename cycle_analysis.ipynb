{
 "cells": [
  {
   "cell_type": "code",
   "execution_count": 238,
   "metadata": {},
   "outputs": [],
   "source": [
    "#Import required libraries\n",
    "import plotly.plotly as py\n",
    "import plotly.graph_objs as go\n",
    "from plotly import figure_factory as FF\n",
    "import numpy as np\n",
    "import pandas as pd\n",
    "import scipy\n",
    "import peakutils\n",
    "import plotly \n",
    "import matplotlib.pyplot as plt\n",
    "\n",
    "\n",
    "# Scientific libraries\n",
    "import numpy as np\n",
    "from scipy.optimize import curve_fit\n",
    "\n"
   ]
  },
  {
   "cell_type": "code",
   "execution_count": 2,
   "metadata": {
    "collapsed": true
   },
   "outputs": [],
   "source": [
    "#Set credentials for plotly online graphing\n",
    "plotly.tools.set_credentials_file(username='samsam489', api_key='npMuIGuw1fNWQoxuXWaG')"
   ]
  },
  {
   "cell_type": "code",
   "execution_count": 11,
   "metadata": {
    "collapsed": true
   },
   "outputs": [],
   "source": [
    "#Read in the cycle data\n",
    "df = pd.read_excel('../data/130N_Cycles_1-47.xlsx')"
   ]
  },
  {
   "cell_type": "code",
   "execution_count": 162,
   "metadata": {},
   "outputs": [
    {
     "name": "stdout",
     "output_type": "stream",
     "text": [
      "16770.9\n"
     ]
    }
   ],
   "source": [
    "#Split the data into times and forces\n",
    "times = df['Time (sec)']#[0:20000]\n",
    "print(times[len(times)-1])\n",
    "forces = df['Load (N)']#[0:20000]"
   ]
  },
  {
   "cell_type": "code",
   "execution_count": 155,
   "metadata": {},
   "outputs": [],
   "source": [
    "'''Find the peaks and troughs in the cycles'''\n",
    "unit_dist = 20\n",
    "#Convert data frame values into an array to allow for peak finding\n",
    "forces_array = np.array(forces)\n",
    "peak_indices = peakutils.indexes(forces_array, thres=0.5, min_dist=100*unit_dist)\n",
    "\n",
    "#Negate force values to find a trough using the same peak function\n",
    "negated_forces = -forces\n",
    "neg_forces_array = np.array(negated_forces)\n",
    "\n",
    "trough_indices = peakutils.indexes(neg_forces_array, thres=0.5, min_dist=135*unit_dist)"
   ]
  },
  {
   "cell_type": "code",
   "execution_count": 156,
   "metadata": {},
   "outputs": [],
   "source": [
    "#Convert the index value to a time value for the x-axis\n",
    "peak_time_indices = [times[i] for i in peak_indices]\n",
    "trough_time_indices = [times[i] for i in trough_indices]"
   ]
  },
  {
   "cell_type": "code",
   "execution_count": 157,
   "metadata": {},
   "outputs": [],
   "source": [
    "#Trace for the original data\n",
    "trace_standard = go.Scatter(\n",
    "    x = times, #[j for j in range(len(forces))],\n",
    "    y = forces,\n",
    "    mode = 'lines',\n",
    "    name = 'Original force vs. time'\n",
    ")\n",
    "\n",
    "#Trace for the peaks\n",
    "trace_peak = go.Scatter(\n",
    "    x=peak_time_indices,\n",
    "    y=[forces[j] for j in peak_indices],\n",
    "    mode='markers',\n",
    "    marker=dict(\n",
    "        size=8,\n",
    "        color='rgb(0,255,0)',\n",
    "        symbol='cross'\n",
    "    ),\n",
    "    name='Detected Peaks'\n",
    ")\n",
    "\n",
    "#Trace for the troughs\n",
    "trace_trough = go.Scatter(\n",
    "    x=trough_time_indices,\n",
    "    y=[forces[j] for j in trough_indices],\n",
    "    mode='markers',\n",
    "    marker=dict(\n",
    "        size=8,\n",
    "        color='rgb(255,0,0)',\n",
    "        symbol='cross'\n",
    "    ),\n",
    "    name='Detected Troughs'\n",
    ")"
   ]
  },
  {
   "cell_type": "code",
   "execution_count": 158,
   "metadata": {},
   "outputs": [
    {
     "name": "stderr",
     "output_type": "stream",
     "text": [
      "/Users/samcohen/anaconda3/lib/python3.6/site-packages/plotly/plotly/plotly.py:224: UserWarning:\n",
      "\n",
      "Woah there! Look at all those points! Due to browser limitations, the Plotly SVG drawing functions have a hard time graphing more than 500k data points for line charts, or 40k points for other types of charts. Here are some suggestions:\n",
      "(1) Use the `plotly.graph_objs.Scattergl` trace object to generate a WebGl graph.\n",
      "(2) Trying using the image API to return an image instead of a graph URL\n",
      "(3) Use matplotlib\n",
      "(4) See if you can create your visualization with fewer data points\n",
      "\n",
      "If the visualization you're using aggregates points (e.g., box plot, histogram, etc.) you can disregard this warning.\n",
      "\n"
     ]
    },
    {
     "name": "stdout",
     "output_type": "stream",
     "text": [
      "The draw time for this plot will be slow for all clients.\n"
     ]
    },
    {
     "name": "stderr",
     "output_type": "stream",
     "text": [
      "/Users/samcohen/anaconda3/lib/python3.6/site-packages/plotly/api/v1/clientresp.py:40: UserWarning:\n",
      "\n",
      "Estimated Draw Time Too Long\n",
      "\n"
     ]
    },
    {
     "data": {
      "text/html": [
       "<iframe id=\"igraph\" scrolling=\"no\" style=\"border:none;\" seamless=\"seamless\" src=\"https://plot.ly/~samsam489/8.embed\" height=\"525px\" width=\"100%\"></iframe>"
      ],
      "text/plain": [
       "<plotly.tools.PlotlyDisplay object>"
      ]
     },
     "execution_count": 158,
     "metadata": {},
     "output_type": "execute_result"
    }
   ],
   "source": [
    "#Plot the results\n",
    "data = [trace_standard, trace_peak, trace_trough]\n",
    "py.iplot(data, filename='force-time-plot-with-extrema')"
   ]
  },
  {
   "cell_type": "code",
   "execution_count": 170,
   "metadata": {},
   "outputs": [
    {
     "name": "stdout",
     "output_type": "stream",
     "text": [
      "Number of cycles: 47\n",
      "Average cycle time: 356.65106383 seconds\n"
     ]
    }
   ],
   "source": [
    "#Label and list the cycles (start-end time pairs) and calculate an average cycle time\n",
    "cycle_times = []\n",
    "for i in range(0,len(trough_time_indices)-1, 1): #Subtract 1 in case of incomplete cycles\n",
    "    cycle = (trough_time_indices[i], trough_time_indices[i+1])\n",
    "    cycle_times.append(cycle)\n",
    "#print(cycle_times)\n",
    "print(\"Number of cycles: \" + str(len(cycle_times)))\n",
    "\n",
    "average_cycle_time = trough_time_indices[-1] / len(cycle_times)\n",
    "print(\"Average cycle time: \"+str(average_cycle_time) + \" seconds\")\n"
   ]
  },
  {
   "cell_type": "code",
   "execution_count": 171,
   "metadata": {},
   "outputs": [
    {
     "name": "stdout",
     "output_type": "stream",
     "text": [
      "Number of heating periods: 47\n",
      "Total heating time: 4290.89919 seconds\n",
      "Average heating time:91.2957274468 seconds\n"
     ]
    }
   ],
   "source": [
    "#List of heating times (increasing load force) and average heat time (period from low to high)\n",
    "heating_periods = []\n",
    "heating_durations = []\n",
    "total_heating_time = 0\n",
    "for i in range(0,len(peak_time_indices), 1):\n",
    "    heat_period = (trough_time_indices[i], peak_time_indices[i])\n",
    "    heating_periods.append(heat_period)\n",
    "    total_heating_time += heat_period[1] - heat_period[0]\n",
    "    heating_durations.append(heat_period[1] - heat_period[0])\n",
    "\n",
    "    \n",
    "print(\"Number of heating periods: \"+ str(len(heating_periods)))\n",
    "print(\"Total heating time: \"+ str(total_heating_time) + \" seconds\")\n",
    "print(\"Average heating time:\" +str(total_heating_time/len(heating_periods)) + \" seconds\")\n"
   ]
  },
  {
   "cell_type": "code",
   "execution_count": 172,
   "metadata": {},
   "outputs": [
    {
     "name": "stdout",
     "output_type": "stream",
     "text": [
      "Number of cooling periods: 47\n",
      "Total cooling time: 12470.00081 seconds\n",
      "Average cooling time: 265.31916617 seconds\n"
     ]
    }
   ],
   "source": [
    "#List of cooling times (decreasing load force) and average cool time\n",
    "\n",
    "cooling_periods = []\n",
    "cooling_durations = []\n",
    "total_cooling_time = 0\n",
    "\n",
    "for i in range(0, len(trough_time_indices)-1, 1):\n",
    "    cool_period = (peak_time_indices[i], trough_time_indices[i+1]) #Because we start at a trough\n",
    "    cooling_periods.append(cool_period)\n",
    "    total_cooling_time += cool_period[1] - cool_period[0]\n",
    "    cooling_durations.append(cool_period[1] - cool_period[0])\n",
    "\n",
    "print(\"Number of cooling periods: \"+ str(len(cooling_periods)))\n",
    "print(\"Total cooling time: \"+ str(total_cooling_time) + \" seconds\")\n",
    "print(\"Average cooling time: \" +str(total_cooling_time/len(cooling_periods)) + \" seconds\")\n"
   ]
  },
  {
   "cell_type": "code",
   "execution_count": 228,
   "metadata": {},
   "outputs": [
    {
     "data": {
      "text/html": [
       "<iframe id=\"igraph\" scrolling=\"no\" style=\"border:none;\" seamless=\"seamless\" src=\"https://plot.ly/~samsam489/12.embed\" height=\"525px\" width=\"100%\"></iframe>"
      ],
      "text/plain": [
       "<plotly.tools.PlotlyDisplay object>"
      ]
     },
     "execution_count": 228,
     "metadata": {},
     "output_type": "execute_result"
    }
   ],
   "source": [
    "#Plot heating durations\n",
    "trace_heat_durations = go.Scatter(\n",
    "    x = [j for j in range(len(heating_durations))],\n",
    "    y = heating_durations,\n",
    "    mode = 'lines',\n",
    "    name = 'heating durations'\n",
    ")\n",
    "data = [trace_heat_durations]\n",
    "py.iplot(data, filename='Heating durations')\n",
    "\n",
    "#We hit the same max pressure each cycle, but it's interesting that it takes longer after a while. \n",
    "# Why wouldn't it reach that state more quickly as internal heat builds up?"
   ]
  },
  {
   "cell_type": "code",
   "execution_count": 229,
   "metadata": {},
   "outputs": [
    {
     "data": {
      "text/html": [
       "<iframe id=\"igraph\" scrolling=\"no\" style=\"border:none;\" seamless=\"seamless\" src=\"https://plot.ly/~samsam489/10.embed\" height=\"525px\" width=\"100%\"></iframe>"
      ],
      "text/plain": [
       "<plotly.tools.PlotlyDisplay object>"
      ]
     },
     "execution_count": 229,
     "metadata": {},
     "output_type": "execute_result"
    }
   ],
   "source": [
    "#Rate of increase in cool durations\n",
    "#Plot the cooling durations\n",
    "\n",
    "trace_cool_durations = go.Scatter(\n",
    "    x = [j for j in range(len(cooling_durations))],\n",
    "    y = cooling_durations,\n",
    "    mode = 'lines',\n",
    "    name = 'Cooling durations'\n",
    ")\n",
    "data = [trace_cool_durations]\n",
    "py.iplot(data, filename='Cooling durations')\n",
    "\n",
    "#A rough but noticable increase in cooling time makes sense as there is likely internal heat build up. \n",
    "# Why is there such a large spike and then flat line and then jump again?"
   ]
  },
  {
   "cell_type": "code",
   "execution_count": 237,
   "metadata": {},
   "outputs": [
    {
     "name": "stdout",
     "output_type": "stream",
     "text": [
      "[  2.76799921  -0.08713292  53.09440057]\n",
      "[[  4.19453021e-01   3.32097949e-03  -1.24525593e+00]\n",
      " [  3.32097949e-03   2.65446119e-05  -9.51571034e-03]\n",
      " [ -1.24525593e+00  -9.51571034e-03   5.00972033e+00]]\n"
     ]
    }
   ],
   "source": [
    "#Fit potential models to the heating (increased pressure) data\n",
    "x = [j for j in range(len(heating_durations))]\n",
    "y = heating_durations\n",
    "\n",
    "#Fit a 2th degree polynomial\n",
    "coefs = np.polynomial.polynomial.polyfit(x, y, 2)\n",
    "ffit = np.poly1d(coefs[::-1])\n",
    "\n",
    "\n",
    "#Fit an exponential function\n",
    "def exponenial_func(x, a, b, c):\n",
    "    return a*np.exp(-b*x)+c\n",
    "\n",
    "popt, pcov = curve_fit(exponenial_func, x, y, p0=(1, 1e-6, 1))\n",
    "xx = np.linspace(0,len(heating_durations))#np.linspace(300, 6000, 1000)\n",
    "yy = exponenial_func(xx, *popt)\n",
    "\n",
    "\n",
    "print(popt)\n",
    "print(pcov)"
   ]
  },
  {
   "cell_type": "code",
   "execution_count": 239,
   "metadata": {},
   "outputs": [
    {
     "name": "stdout",
     "output_type": "stream",
     "text": [
      "Polynomial: \n",
      "        2\n",
      "0.1204 x - 2.929 x + 72.85\n",
      "\n",
      "Exponential:\n",
      "a = 2.7679992133 b= -0.0871329186467 c= 53.0944005654\n"
     ]
    },
    {
     "data": {
      "text/html": [
       "<iframe id=\"igraph\" scrolling=\"no\" style=\"border:none;\" seamless=\"seamless\" src=\"https://plot.ly/~samsam489/14.embed\" height=\"525px\" width=\"100%\"></iframe>"
      ],
      "text/plain": [
       "<plotly.tools.PlotlyDisplay object>"
      ]
     },
     "execution_count": 239,
     "metadata": {},
     "output_type": "execute_result"
    }
   ],
   "source": [
    "print(\"Polynomial: \")\n",
    "print(str(ffit))\n",
    "print()\n",
    "print(\"Exponential:\")\n",
    "#f  = a * e^(-bx) + c \n",
    "print(\"a = \"+ str(popt[0]) + \" b= \"+ str(popt[1]) + \" c= \"+str(popt[2]))\n",
    "\n",
    "\n",
    "\n",
    "\n",
    "#Graph both the polynomial and the exponential\n",
    "trace_heat_durations = go.Scatter(\n",
    "    x = [j for j in range(len(heating_durations))],\n",
    "    y = heating_durations,\n",
    "    mode = 'lines',\n",
    "    marker=go.Marker(color='rgb(0, 0, 255)'),\n",
    "    name = 'heating durations'\n",
    ")\n",
    "\n",
    "trace_fit_polynomial = go.Scatter(\n",
    "    x = [j for j in range(len(heating_durations))],\n",
    "    y = ffit(x),\n",
    "    mode = 'lines',\n",
    "    marker=go.Marker(color='rgb(0, 255, 0)'),\n",
    "    name = 'Polynomial Fit'\n",
    ")\n",
    "trace_fit_exponential = go.Scatter(\n",
    "    x=xx,\n",
    "    y=yy,\n",
    "    mode='lines',\n",
    "    marker=go.Marker(color='rgb(255, 0, 0)'),\n",
    "    name='Exponential Fit'\n",
    ")\n",
    "\n",
    "data = [trace_heat_durations, trace_fit_polynomial, trace_fit_exponential]\n",
    "py.iplot(data, filename='Heating durations and fits')"
   ]
  },
  {
   "cell_type": "code",
   "execution_count": null,
   "metadata": {
    "collapsed": true
   },
   "outputs": [],
   "source": []
  },
  {
   "cell_type": "code",
   "execution_count": null,
   "metadata": {
    "collapsed": true
   },
   "outputs": [],
   "source": []
  }
 ],
 "metadata": {
  "kernelspec": {
   "display_name": "Python 3",
   "language": "python",
   "name": "python3"
  },
  "language_info": {
   "codemirror_mode": {
    "name": "ipython",
    "version": 3
   },
   "file_extension": ".py",
   "mimetype": "text/x-python",
   "name": "python",
   "nbconvert_exporter": "python",
   "pygments_lexer": "ipython3",
   "version": "3.6.3"
  }
 },
 "nbformat": 4,
 "nbformat_minor": 2
}
