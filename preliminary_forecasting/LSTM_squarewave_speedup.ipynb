{
 "cells": [
  {
   "cell_type": "code",
   "execution_count": 5,
   "metadata": {},
   "outputs": [],
   "source": [
    "%matplotlib inline\n",
    "import numpy as np\n",
    "import matplotlib.pyplot as plt\n",
    "import pandas as pd\n",
    "from keras.models import Sequential\n",
    "from keras.layers import Dense\n",
    "from keras.layers import LSTM\n",
    "import math\n",
    "from sklearn.metrics import mean_squared_error\n",
    "from sklearn.preprocessing import MinMaxScaler\n",
    "from sklearn.preprocessing import StandardScaler\n",
    "from timeit import default_timer as timer\n",
    "import numpy as np\n",
    "from scipy import signal\n",
    "import matplotlib.pyplot as plt"
   ]
  },
  {
   "cell_type": "markdown",
   "metadata": {},
   "source": [
    "## TODO:\n",
    "* Record trials in an organized excel sheet, or write out each one to a .txt file \n",
    "* Save model parameters (allow for application after training and allow for updated training)"
   ]
  },
  {
   "cell_type": "markdown",
   "metadata": {},
   "source": [
    "\n",
    "## Generate sine wave data points"
   ]
  },
  {
   "cell_type": "code",
   "execution_count": 8,
   "metadata": {},
   "outputs": [
    {
     "name": "stdout",
     "output_type": "stream",
     "text": [
      "Total data points: 1257\n"
     ]
    }
   ],
   "source": [
    "# #Define characteristics of the data to generate (square wave also has period 2PI)\n",
    "num_cycles = 20\n",
    "sample_rate = 0.1\n",
    "points_per_cycle = int((2*np.pi) / sample_rate)\n",
    "\n",
    "#Sample from a pure sine wave\n",
    "data = [signal.square(i) for i in np.arange(start=0, stop=num_cycles*2*np.pi, step=sample_rate)]\n",
    "\n",
    "print(\"Total data points: \" + str(len(data)))\n",
    "\n",
    "\n",
    "\n"
   ]
  },
  {
   "cell_type": "markdown",
   "metadata": {},
   "source": [
    "## Data Formatting\n",
    "* `series_to_examples`: Function to convert a 1D series into example data consisting of `X` and `Y` columns\n",
    "* `prepare_data`: Function to prepare and split data into `train`/`test` sets\n",
    "\n",
    "* NOTE: We can also add scaling in these functions, to squash values closer together\n"
   ]
  },
  {
   "cell_type": "code",
   "execution_count": 9,
   "metadata": {
    "collapsed": true
   },
   "outputs": [],
   "source": [
    "# Convert 1D series into example data of X and Y columns\n",
    "def series_to_examples(series, n_prev=1, n_forecast=1, dropnan=True):\n",
    "    \"\"\"\n",
    "    Transform time series data into supervised learning dataset.\n",
    "    Arguments: \n",
    "        series: Sequence of observations as a list\n",
    "        n_prev: Number of lag observations as input (X)\n",
    "        n_forecast: Number of observations to predict (Y)\n",
    "        dropnan: Boolean to drop rows with NaN values resulting from shift\n",
    "    Returns:\n",
    "        Pandas Dataframe\n",
    "        \n",
    "    Note: by this logic we should have N = (n_prev + n_forecast) columns\n",
    "     and (series_len - N + 1) rows\n",
    "    \"\"\"\n",
    "    \n",
    "    #Robust check for whether or not series is univariate or multi-variate\n",
    "    #If not a simple list (univariate), then the columns of shape will tell you how many variables\n",
    "    num_dims = 1 if type(series) is list else series.shape[1]\n",
    "    \n",
    "    #convert the series to a dataframe format for shift\n",
    "    df = pd.DataFrame(series)\n",
    "    \n",
    "    #Cols is a list of lists where each inner list is a whole column\n",
    "    cols, names = list(), list()\n",
    "    \n",
    "    #Build each column of the input, first column will be fully shifted (i.e oldest example seen) \n",
    "    for i in range(n_prev, 0, -1):\n",
    "        cols.append(df.shift(i))\n",
    "        #names just a list??\n",
    "        names += [('var%d(t-%d)' % (j+1, i)) for j in range(num_dims)]\n",
    "    \n",
    "    #Build each column of the output forecasts (t, t+1, ...)\n",
    "    for i in range(0, n_forecast):\n",
    "        cols.append(df.shift(-i))\n",
    "        if i == 0:\n",
    "            names += [('var%d(t)' % (j+1)) for j in range(num_dims)]\n",
    "        else:\n",
    "            names += [('var%d(t+%d)' % (j+1, i)) for j in range(num_dims)]\n",
    "    \n",
    "    #Build a final dataframe columns side by side & attach names\n",
    "    final = pd.concat(cols, axis=1)\n",
    "    final.columns = names\n",
    "\n",
    "    \n",
    "    #Remove all rows with NaN values\n",
    "    if dropnan:\n",
    "        final.dropna(inplace=True)\n",
    "        \n",
    "    return final  \n",
    "\n",
    "\n",
    "\n",
    "#Prepare and split data into train/test sets\n",
    "def prepare_data(series, n_test, n_prev, n_forecast):#, batch_size):\n",
    "    \n",
    "    #Prepare data handles intital split!!!\n",
    "    \n",
    "    #NEW: Split before sending into series_to_examples\n",
    "    train, test = series[:-n_test], series[-n_test:] \n",
    "    \n",
    "    \n",
    "    #TODO: Could scale here\n",
    "    \n",
    "    #Grab supervised-formatted data\n",
    "    df_train = series_to_examples(train, n_prev, n_forecast)\n",
    "    \n",
    "    #Drop excess examples to allow for varying batch size\n",
    "    #cutoff = int(len(df_train)/batch_size) * batch_size\n",
    "    #df_train = df_train[:cutoff]\n",
    "    \n",
    "    #Extract and retain structure of values from dataframe\n",
    "    example_values_train = df_train.values\n",
    "    \n",
    "    return example_values_train, test\n"
   ]
  },
  {
   "cell_type": "markdown",
   "metadata": {},
   "source": [
    "## Define data structure to be passed to network"
   ]
  },
  {
   "cell_type": "code",
   "execution_count": 10,
   "metadata": {},
   "outputs": [
    {
     "name": "stdout",
     "output_type": "stream",
     "text": [
      "Train is a matrix. Rows=examples; Cols=total points in an example;   train.shape: (762, 248)\n",
      "Test is a vector of size total number of points in an example;       test size: 248\n",
      "186\n",
      "62\n"
     ]
    }
   ],
   "source": [
    "#Test size has to be large enough to encompass one full cycle\n",
    "\n",
    "n_prev = points_per_cycle * 3\n",
    "n_forecast = points_per_cycle\n",
    "\n",
    "#The test data has to encompass both n_prev points and n_forecast points\n",
    "#We feed the first n_prev points of the test into the network to make a prediction and compare this to n_forecast\n",
    "#(This is just enough to predict one cycle)\n",
    "n_test = n_prev + n_forecast# int(len(data)*0.2)\n",
    "\n",
    "\n",
    "train, test = prepare_data(data, n_test, n_prev, n_forecast)#, batch_size)\n",
    "\n",
    "print(\"Train is a matrix. Rows=examples; Cols=total points in an example;   train.shape: \" + str(train.shape))\n",
    "print(\"Test is a vector of size total number of points in an example;       test size: \" + str(len(test)))\n",
    "print(n_prev)\n",
    "print(n_forecast)\n"
   ]
  },
  {
   "cell_type": "markdown",
   "metadata": {},
   "source": [
    "## Visualize total dataset and goal in red"
   ]
  },
  {
   "cell_type": "code",
   "execution_count": 12,
   "metadata": {},
   "outputs": [
    {
     "data": {
      "text/plain": [
       "<matplotlib.collections.PathCollection at 0x1c1b3dd780>"
      ]
     },
     "execution_count": 12,
     "metadata": {},
     "output_type": "execute_result"
    },
    {
     "data": {
      "image/png": "[encoded data removed]",
      "text/plain": [
       "<matplotlib.figure.Figure at 0x1c1aeee278>"
      ]
     },
     "metadata": {},
     "output_type": "display_data"
    }
   ],
   "source": [
    "#Set the figure parameters\n",
    "fig=plt.figure(figsize=(20, 5), dpi= 80, facecolor='w', edgecolor='k')\n",
    "\n",
    "#Plot the original data using the defined train and test sizes\n",
    "train_plot, test_plot = data[:-n_test], data[-n_test:]\n",
    "\n",
    "#Line plot along the true data\n",
    "plt.plot(data, color=\"blue\")\n",
    "\n",
    "#Plot the training points in green\n",
    "train_plot_x = [x for x in range(len(train_plot))]\n",
    "plt.scatter(train_plot_x, train_plot, color=\"green\", s=30)\n",
    "\n",
    "#Note: we have to shift the test data to plot it\n",
    "test_plot_x = [x +len(train_plot) for x in range(len(test_plot))]\n",
    "plt.scatter(test_plot_x, test_plot, color=\"red\", s=30)\n"
   ]
  },
  {
   "cell_type": "markdown",
   "metadata": {},
   "source": [
    "## Define LSTM architecture\n",
    "\n",
    "* NOTE: We have to switch the input such that 2nd dimension (time_steps) is representative of how many steps to look into the past.  \n",
    "* NOTE: \"features\" is dim 1. It is just representative of the number of dimensions in our input, nothing to do with number of points, nor the number of points on the output."
   ]
  },
  {
   "cell_type": "code",
   "execution_count": 13,
   "metadata": {
    "collapsed": true
   },
   "outputs": [],
   "source": [
    "# fit an LSTM network to training data\n",
    "\n",
    "def fit_lstm(train, n_prev, n_forecast, n_batch, nb_epoch, n_neurons):\n",
    "    \"\"\"\n",
    "    Function to convert data so it can be interpreted by the LSTM and then trains and returns the LSTM model\n",
    "    Note: \n",
    "    \n",
    "    Input to every LSTM layer must be 3 dimensional\n",
    "    - Samples: one sequence is one sample. A batch is comprised of 1 or more samples.\n",
    "    - Time Steps: One time step is one point of observation in the sample.\n",
    "    - Features: One feature is one observation at a time step.\n",
    "    \n",
    "    \"\"\"\n",
    "    \n",
    "    architecture = \"\"\n",
    "    # reshape training into [samples, timesteps, features]\n",
    "    \n",
    "    #Split the training data into X (input) and y (labels)\n",
    "    X, y = train[:, 0:n_prev], train[:, n_prev:]\n",
    "\n",
    "    print(\"X shape: \" + str(X.shape))\n",
    "    print(\"y shape: \" + str(y.shape))\n",
    "    \n",
    "    #Reshape X so Samples=num_examples, TimeSteps=1, Features = n_lag\n",
    "    #X = X.reshape(X.shape[0], 1, X.shape[1]) !!!!\n",
    "    X = X.reshape(X.shape[0],X.shape[1],1)\n",
    "    \n",
    "\n",
    "    model = Sequential()\n",
    "    #We feed in batch sizes of dimension: (n_batch, 1, n_lag)\n",
    "    print(\"sam\")\n",
    "    print((n_batch, X.shape[1], X.shape[2]))\n",
    "    print(X.shape)\n",
    "    model.add(LSTM(n_neurons, batch_input_shape=(n_batch, X.shape[1], X.shape[2]), stateful=False))\n",
    "    architecture += \"LSTM; \"\n",
    "    #model.add(Dense(300))\n",
    "    #Last layer is a fully connected layer to output size n_forecast\n",
    "    model.add(Dense(y.shape[1]))\n",
    "    architecture += \"Dense output; \"\n",
    "    #Compile the network\n",
    "    model.compile(loss='mean_squared_error', optimizer='adam')\n",
    "    \n",
    "    #Fit the network to the training data\n",
    "    for i in range(nb_epoch):\n",
    "        start = timer()\n",
    "        print(i)\n",
    "        \n",
    "        model.fit(X, y, epochs=1, batch_size=n_batch, verbose=0, shuffle=False)\n",
    "        model.reset_states()\n",
    "        \n",
    "        end = timer()\n",
    "        print(\"Epoch duration: \" + str(end - start))\n",
    "    return model, architecture"
   ]
  },
  {
   "cell_type": "markdown",
   "metadata": {},
   "source": [
    "## Train the Neural Network"
   ]
  },
  {
   "cell_type": "code",
   "execution_count": 14,
   "metadata": {},
   "outputs": [
    {
     "name": "stdout",
     "output_type": "stream",
     "text": [
      "(762, 248)\n"
     ]
    }
   ],
   "source": [
    "print(train.shape)"
   ]
  },
  {
   "cell_type": "code",
   "execution_count": 19,
   "metadata": {},
   "outputs": [
    {
     "name": "stdout",
     "output_type": "stream",
     "text": [
      "train shape: (762, 248)\n",
      "train shape: (760, 248)\n",
      "X shape: (760, 186)\n",
      "y shape: (760, 62)\n",
      "sam\n",
      "(40, 186, 1)\n",
      "(760, 186, 1)\n",
      "0\n",
      "Epoch duration: 3.7538725740014343\n",
      "1\n",
      "Epoch duration: 1.8384249199880287\n",
      "2\n",
      "Epoch duration: 1.8428688590065576\n",
      "3\n",
      "Epoch duration: 1.8861597319919383\n",
      "4\n",
      "Epoch duration: 1.8627998559968546\n",
      "5\n",
      "Epoch duration: 1.915376703007496\n",
      "6\n",
      "Epoch duration: 2.0421673739911057\n",
      "7\n",
      "Epoch duration: 2.124714292003773\n",
      "8\n",
      "Epoch duration: 2.1635390529991128\n",
      "9\n",
      "Epoch duration: 2.3316246239992324\n",
      "10\n",
      "Epoch duration: 2.013658588999533\n",
      "11\n",
      "Epoch duration: 2.020939565001754\n",
      "12\n",
      "Epoch duration: 2.0927239779994125\n",
      "13\n",
      "Epoch duration: 2.0454681029950734\n",
      "14\n",
      "Epoch duration: 2.057507727004122\n",
      "15\n",
      "Epoch duration: 2.0205039150023367\n",
      "16\n",
      "Epoch duration: 2.2112213840009645\n",
      "17\n",
      "Epoch duration: 2.1769184739969205\n",
      "18\n",
      "Epoch duration: 2.0726243819954107\n",
      "19\n",
      "Epoch duration: 2.0232575370027917\n",
      "20\n",
      "Epoch duration: 1.9630537399934838\n",
      "21\n",
      "Epoch duration: 2.0024524650070816\n",
      "22\n",
      "Epoch duration: 2.115499768013251\n",
      "23\n",
      "Epoch duration: 2.0098994889995083\n",
      "24\n",
      "Epoch duration: 2.0637028330093017\n",
      "25\n",
      "Epoch duration: 2.0439538710052148\n",
      "26\n",
      "Epoch duration: 2.0053354229894467\n",
      "27\n",
      "Epoch duration: 1.9633688759931829\n",
      "28\n",
      "Epoch duration: 1.990294482005993\n",
      "29\n",
      "Epoch duration: 2.027060792010161\n",
      "30\n",
      "Epoch duration: 1.995453159994213\n",
      "31\n",
      "Epoch duration: 2.264410237999982\n",
      "32\n",
      "Epoch duration: 2.2756126769963885\n",
      "33\n",
      "Epoch duration: 2.2135675250028726\n",
      "34\n",
      "Epoch duration: 2.059075708995806\n",
      "35\n",
      "Epoch duration: 2.102450074002263\n",
      "36\n",
      "Epoch duration: 2.008976047000033\n",
      "37\n",
      "Epoch duration: 2.0607061909977347\n",
      "38\n",
      "Epoch duration: 2.198833480011672\n",
      "39\n",
      "Epoch duration: 2.1364937339967582\n",
      "40\n",
      "Epoch duration: 2.0804102730035083\n",
      "41\n",
      "Epoch duration: 2.2901422410068335\n",
      "42\n",
      "Epoch duration: 2.0879550609970465\n",
      "43\n",
      "Epoch duration: 2.1460470500023803\n",
      "44\n",
      "Epoch duration: 2.1016529519984033\n",
      "45\n",
      "Epoch duration: 2.0576151919958647\n",
      "46\n",
      "Epoch duration: 2.1375147369981278\n",
      "47\n",
      "Epoch duration: 2.1612900879990775\n",
      "48\n",
      "Epoch duration: 2.065663247005432\n",
      "49\n",
      "Epoch duration: 2.0327195420104545\n",
      "50\n",
      "Epoch duration: 2.1711361320049036\n",
      "51\n",
      "Epoch duration: 2.014876074012136\n",
      "52\n",
      "Epoch duration: 2.1295024499995634\n",
      "53\n",
      "Epoch duration: 2.192488279004465\n",
      "54\n",
      "Epoch duration: 2.181862176003051\n",
      "55\n",
      "Epoch duration: 2.1966051619965583\n",
      "56\n",
      "Epoch duration: 1.9922497410007054\n",
      "57\n",
      "Epoch duration: 2.0180005639995215\n",
      "58\n",
      "Epoch duration: 1.9865792099881219\n",
      "59\n",
      "Epoch duration: 1.9451927560003242\n",
      "60\n",
      "Epoch duration: 1.9770837929972913\n",
      "61\n",
      "Epoch duration: 1.9647144470072817\n",
      "62\n",
      "Epoch duration: 2.002125733997673\n",
      "63\n",
      "Epoch duration: 2.266726634989027\n",
      "64\n",
      "Epoch duration: 2.0824480669980403\n",
      "65\n",
      "Epoch duration: 1.9834392719931202\n",
      "66\n",
      "Epoch duration: 2.1826277379877865\n",
      "67\n",
      "Epoch duration: 1.9711481739941519\n",
      "68\n",
      "Epoch duration: 1.9500767179997638\n",
      "69\n",
      "Epoch duration: 2.3424895990028745\n",
      "70\n",
      "Epoch duration: 2.2622371330071473\n",
      "71\n",
      "Epoch duration: 2.33470711800328\n",
      "72\n",
      "Epoch duration: 1.9999376129999291\n",
      "73\n",
      "Epoch duration: 2.0689615739975125\n",
      "74\n",
      "Epoch duration: 2.0528102409880375\n",
      "75\n",
      "Epoch duration: 2.004498174006585\n",
      "76\n",
      "Epoch duration: 2.00633958200342\n",
      "77\n",
      "Epoch duration: 2.167980571000953\n",
      "78\n",
      "Epoch duration: 2.0691557149984874\n",
      "79\n",
      "Epoch duration: 2.3161155869893264\n",
      "80\n",
      "Epoch duration: 2.287018631992396\n",
      "81\n",
      "Epoch duration: 1.9897299930016743\n",
      "82\n",
      "Epoch duration: 2.014398754996364\n",
      "83\n",
      "Epoch duration: 2.02131794700108\n",
      "84\n",
      "Epoch duration: 2.0065321770089213\n",
      "85\n",
      "Epoch duration: 2.2778432839986635\n",
      "86\n",
      "Epoch duration: 2.2472279359935783\n",
      "87\n",
      "Epoch duration: 2.135848364996491\n",
      "88\n",
      "Epoch duration: 2.017820836001192\n",
      "89\n",
      "Epoch duration: 2.0104098830051953\n",
      "90\n",
      "Epoch duration: 1.9931438500061631\n",
      "91\n",
      "Epoch duration: 2.027698596008122\n",
      "92\n",
      "Epoch duration: 1.963866592006525\n",
      "93\n",
      "Epoch duration: 2.005891509994399\n",
      "94\n",
      "Epoch duration: 2.0255196609941777\n",
      "95\n",
      "Epoch duration: 2.0095669720030855\n",
      "96\n",
      "Epoch duration: 1.9730383709975285\n",
      "97\n",
      "Epoch duration: 1.988056021000375\n",
      "98\n",
      "Epoch duration: 2.0320488389988896\n",
      "99\n",
      "Epoch duration: 2.008272898005089\n"
     ]
    }
   ],
   "source": [
    "n_epochs = 100\n",
    "n_batch = 40\n",
    "n_neurons = 1\n",
    "print(\"train shape: \" + str(train.shape))\n",
    "train_cut = train[:-2,:]\n",
    "#train_cut = train\n",
    "print(\"train shape: \" + str(train_cut.shape))\n",
    "\n",
    "model, architecture = fit_lstm(train_cut, n_prev, n_forecast, n_batch, n_epochs, n_neurons)"
   ]
  },
  {
   "cell_type": "code",
   "execution_count": 20,
   "metadata": {},
   "outputs": [
    {
     "name": "stdout",
     "output_type": "stream",
     "text": [
      "(762, 248)\n"
     ]
    }
   ],
   "source": [
    "print(train.shape)"
   ]
  },
  {
   "cell_type": "markdown",
   "metadata": {
    "collapsed": true
   },
   "source": [
    "# "
   ]
  },
  {
   "cell_type": "code",
   "execution_count": 21,
   "metadata": {
    "collapsed": true
   },
   "outputs": [],
   "source": [
    "def forecast_lstm(model, X, n_batch):\n",
    "    #Reshape input data to [samples, timesteps, features] for the LSTM\n",
    "    \n",
    "    Xs = [X for _ in range(n_batch)]\n",
    "    \n",
    "    x_stack = np.stack((Xs))\n",
    "    print(x_stack.shape)\n",
    "    \n",
    "    X = x_stack.reshape(n_batch,len(X),1)\n",
    "    \n",
    "    #Make a forecast    \n",
    "    forecast = model.predict(X, batch_size=n_batch)\n",
    "    \n",
    "    #Convert to array\n",
    "    return [y_hat for y_hat in forecast[0,:]]"
   ]
  },
  {
   "cell_type": "code",
   "execution_count": 22,
   "metadata": {},
   "outputs": [
    {
     "name": "stdout",
     "output_type": "stream",
     "text": [
      "186\n",
      "(40, 186)\n",
      "First true label: 1.0\n",
      "First forecast: -0.656982\n",
      "Average RMSE: \n",
      "0.7791579017369704\n"
     ]
    }
   ],
   "source": [
    "#Run on test data\n",
    "test_x, test_y = test[0:n_prev], test[n_prev:]\n",
    "test_x = np.array(test_x)\n",
    "print(len(test_x))\n",
    "y_hat = forecast_lstm(model, test_x, n_batch)\n",
    "print(\"First true label: \" + str(test_y[0]))\n",
    "print(\"First forecast: \" +str(y_hat[0]))\n",
    "\n",
    "RMSE = []\n",
    "for i in range(n_forecast):\n",
    "    RMSE.append(math.sqrt(mean_squared_error(test_y, y_hat)))\n",
    "print(\"Average RMSE: \")\n",
    "print(sum(RMSE)/len(RMSE))"
   ]
  },
  {
   "cell_type": "code",
   "execution_count": null,
   "metadata": {
    "collapsed": true
   },
   "outputs": [],
   "source": []
  },
  {
   "cell_type": "markdown",
   "metadata": {},
   "source": [
    "## Evaluate the forecast based on its RMSE and record results"
   ]
  },
  {
   "cell_type": "code",
   "execution_count": 23,
   "metadata": {},
   "outputs": [
    {
     "name": "stdout",
     "output_type": "stream",
     "text": [
      "RMSE: \n",
      "[0.7791579017369694, 0.7791579017369694, 0.7791579017369694, 0.7791579017369694, 0.7791579017369694, 0.7791579017369694, 0.7791579017369694, 0.7791579017369694, 0.7791579017369694, 0.7791579017369694, 0.7791579017369694, 0.7791579017369694, 0.7791579017369694, 0.7791579017369694, 0.7791579017369694, 0.7791579017369694, 0.7791579017369694, 0.7791579017369694, 0.7791579017369694, 0.7791579017369694, 0.7791579017369694, 0.7791579017369694, 0.7791579017369694, 0.7791579017369694, 0.7791579017369694, 0.7791579017369694, 0.7791579017369694, 0.7791579017369694, 0.7791579017369694, 0.7791579017369694, 0.7791579017369694, 0.7791579017369694, 0.7791579017369694, 0.7791579017369694, 0.7791579017369694, 0.7791579017369694, 0.7791579017369694, 0.7791579017369694, 0.7791579017369694, 0.7791579017369694, 0.7791579017369694, 0.7791579017369694, 0.7791579017369694, 0.7791579017369694, 0.7791579017369694, 0.7791579017369694, 0.7791579017369694, 0.7791579017369694, 0.7791579017369694, 0.7791579017369694, 0.7791579017369694, 0.7791579017369694, 0.7791579017369694, 0.7791579017369694, 0.7791579017369694, 0.7791579017369694, 0.7791579017369694, 0.7791579017369694, 0.7791579017369694, 0.7791579017369694, 0.7791579017369694, 0.7791579017369694]\n"
     ]
    }
   ],
   "source": [
    "#Evaluate forecasts and record them in a text file\n",
    "from sklearn.metrics import mean_squared_error\n",
    "import math\n",
    "\n",
    "RMSE = []\n",
    "for i in range(n_forecast):\n",
    "    RMSE.append(math.sqrt(mean_squared_error(test_y, y_hat)))\n",
    "print(\"RMSE: \")\n",
    "print(RMSE)\n",
    "\n",
    "#Open the textfile to append to\n",
    "text_file = open(\"results.txt\", \"a\")\n",
    "\n",
    "text_file.write(\"\\n\\nNEW TRIAL: \\n\\n\")\n",
    "text_file.write(\"Architecture: \" + str(architecture)+\"\\n\")\n",
    "text_file.write(\"Epochs: \" + str(n_epochs)+\"\\n\")\n",
    "text_file.write(\"Average RMSE: \" + str(sum(RMSE)/len(RMSE))+\"\\n\")\n",
    "text_file.write(\"Average predicted value: \" + str(sum(y_hat)/len(y_hat))+\"\\n\")\n",
    "text_file.write(\"Variance of predicted values: \" + str(np.var(y_hat))+\"\\n\")\n",
    "text_file.write(\"Min: \" + str(min(y_hat))+ \" Max: \" +str(max(y_hat)) + \"\\n\")\n",
    "\n",
    "\n",
    "#Close the file after writing results to it\n",
    "text_file.close()\n"
   ]
  },
  {
   "cell_type": "markdown",
   "metadata": {
    "collapsed": true
   },
   "source": [
    "## Display Results\n",
    "* Blue: Sample used for prediction\n",
    "* Green: What we are trying to predict\n",
    "* Red: Actual prediction"
   ]
  },
  {
   "cell_type": "code",
   "execution_count": 24,
   "metadata": {},
   "outputs": [
    {
     "name": "stdout",
     "output_type": "stream",
     "text": [
      "y size: 62\n",
      "x size: 62\n",
      "186\n",
      "186\n",
      "Epochs: 100\n",
      "Average RMSE: 0.7791579017369704\n",
      "Average predicted value: 0.010636266020517196\n",
      "Variance of predicted values: 0.5763805\n",
      "Min: -1.172566 Max: 1.1809261\n"
     ]
    },
    {
     "data": {
      "image/png": "[encoded data removed]",
      "text/plain": [
       "<matplotlib.figure.Figure at 0x1c1ffedf60>"
      ]
     },
     "metadata": {},
     "output_type": "display_data"
    }
   ],
   "source": [
    "#Display forecasts\n",
    "\n",
    "#Build a larger figure\n",
    "fig=plt.figure(figsize=(20, 5), dpi= 80, facecolor='w', edgecolor='k')\n",
    "\n",
    "#data = data[:int(len(data)/2)]\n",
    "plt.plot(data, color=\"black\")\n",
    "\n",
    "\n",
    "\n",
    "xs = [x for x in range(len(data))]\n",
    "#plt.scatter(xs, data, color=\"blue\", s = 15)\n",
    "\n",
    "\n",
    "\n",
    "\n",
    "\n",
    "\n",
    "#Define indices for which to plot the prediction\n",
    "index_start = len(data) - len(y_hat)\n",
    "index_end = len(data)\n",
    "labels_x = [x for x in range(index_start, index_end)]\n",
    "\n",
    "#print(len(test_y))\n",
    "#print(len(y_hat))\n",
    "#print(len(labels_x))\n",
    "#mod_data = [y+ for y in data[-40:]]\n",
    "#fake_y = [y for y in range()]\n",
    "\n",
    "\n",
    "\n",
    "#Display true labels in green\n",
    "#Display true labels in green\n",
    "true_labels = [data[y] for y in range(index_start, index_end)]\n",
    "plt.scatter(labels_x, true_labels, color=\"green\", s=30)\n",
    "\n",
    "print(\"y size: \" +str(len(y_hat)))\n",
    "print(\"x size: \" +str(len(labels_x)))\n",
    "\n",
    "\n",
    "#Display the X of that this prediction was based on\n",
    "test_x_start = len(data) - n_test\n",
    "test_x_end = len(data) - len(y_hat)\n",
    "test_x_indices = [x for x in range(test_x_start, test_x_end)]\n",
    "\n",
    "test_x_labels = [data[y] for y in test_x_indices]\n",
    "\n",
    "print(len(test_x_indices))\n",
    "print(len(test_x_labels))\n",
    "\n",
    "plt.scatter(test_x_indices, test_x_labels, color=\"blue\", s=30)\n",
    "\n",
    "#Display forecasted labels in red\n",
    "index_start = test_x_end\n",
    "index_end = len(data)\n",
    "labels_x = [x for x in range(index_start, index_end)]\n",
    "plt.scatter(labels_x, y_hat, color=\"red\", s=30)\n",
    "\n",
    "print(\"Epochs: \" + str(n_epochs))\n",
    "print(\"Average RMSE: \" + str(sum(RMSE)/len(RMSE)))\n",
    "print(\"Average predicted value: \" + str(sum(y_hat)/len(y_hat)))\n",
    "print(\"Variance of predicted values: \" + str(np.var(y_hat)))\n",
    "print(\"Min: \" + str(min(y_hat)) + \" Max: \"+str(max(y_hat)))"
   ]
  },
  {
   "cell_type": "code",
   "execution_count": null,
   "metadata": {
    "collapsed": true
   },
   "outputs": [],
   "source": []
  },
  {
   "cell_type": "code",
   "execution_count": null,
   "metadata": {
    "collapsed": true
   },
   "outputs": [],
   "source": []
  },
  {
   "cell_type": "code",
   "execution_count": 51,
   "metadata": {},
   "outputs": [
    {
     "name": "stderr",
     "output_type": "stream",
     "text": [
      "/Users/samcohen/anaconda3/lib/python3.6/site-packages/keras/models.py:944: UserWarning: The `nb_epoch` argument in `fit` has been renamed `epochs`.\n",
      "  warnings.warn('The `nb_epoch` argument in `fit` '\n"
     ]
    },
    {
     "name": "stdout",
     "output_type": "stream",
     "text": [
      "Epoch 1/10\n",
      "4/4 [==============================] - 1s 287ms/step - loss: 8.9841\n",
      "Epoch 2/10\n",
      "4/4 [==============================] - 0s 2ms/step - loss: 8.9257\n",
      "Epoch 3/10\n",
      "4/4 [==============================] - 0s 2ms/step - loss: 8.8592\n",
      "Epoch 4/10\n",
      "4/4 [==============================] - 0s 2ms/step - loss: 8.7919\n",
      "Epoch 5/10\n",
      "4/4 [==============================] - 0s 2ms/step - loss: 8.7364\n",
      "Epoch 6/10\n",
      "4/4 [==============================] - 0s 3ms/step - loss: 8.6759\n",
      "Epoch 7/10\n",
      "4/4 [==============================] - 0s 3ms/step - loss: 8.6077\n",
      "Epoch 8/10\n",
      "4/4 [==============================] - 0s 3ms/step - loss: 8.5510\n",
      "Epoch 9/10\n",
      "4/4 [==============================] - 0s 2ms/step - loss: 8.4728\n",
      "Epoch 10/10\n",
      "4/4 [==============================] - 0s 2ms/step - loss: 8.4180\n"
     ]
    },
    {
     "data": {
      "text/plain": [
       "<keras.callbacks.History at 0x1a27817dd8>"
      ]
     },
     "execution_count": 51,
     "metadata": {},
     "output_type": "execute_result"
    }
   ],
   "source": [
    "from keras.models import Sequential\n",
    "import numpy as np\n",
    "from keras.layers import LSTM\n",
    "from keras.layers import Dense\n",
    " \n",
    "model = Sequential()\n",
    "model.add(LSTM(2, input_shape=(2,1)))\n",
    "model.add(Dense(1))\n",
    "model.compile(loss='mean_squared_error', optimizer='adam')\n",
    " \n",
    "x= np.array([[[1],[2]],[[3],[4]],[[5],[6]],[[7],[8]]])\n",
    "y = np.array([1,2,3,4])\n",
    " \n",
    "model.fit(x, y, nb_epoch=10, batch_size=2, verbose=1)\n"
   ]
  },
  {
   "cell_type": "code",
   "execution_count": 52,
   "metadata": {},
   "outputs": [
    {
     "ename": "AttributeError",
     "evalue": "'list' object has no attribute 'ndim'",
     "output_type": "error",
     "traceback": [
      "\u001b[0;31m---------------------------------------------------------------------------\u001b[0m",
      "\u001b[0;31mAttributeError\u001b[0m                            Traceback (most recent call last)",
      "\u001b[0;32m<ipython-input-52-1ea432546eee>\u001b[0m in \u001b[0;36m<module>\u001b[0;34m()\u001b[0m\n\u001b[0;32m----> 1\u001b[0;31m \u001b[0mprint\u001b[0m\u001b[0;34m(\u001b[0m\u001b[0mmodel\u001b[0m\u001b[0;34m.\u001b[0m\u001b[0mpredict\u001b[0m\u001b[0;34m(\u001b[0m\u001b[0;34m[\u001b[0m\u001b[0;34m[\u001b[0m\u001b[0;34m[\u001b[0m\u001b[0;36m1\u001b[0m\u001b[0;34m]\u001b[0m\u001b[0;34m,\u001b[0m\u001b[0;34m[\u001b[0m\u001b[0;36m3\u001b[0m\u001b[0;34m]\u001b[0m\u001b[0;34m]\u001b[0m\u001b[0;34m,\u001b[0m \u001b[0;34m[\u001b[0m\u001b[0;34m[\u001b[0m\u001b[0;36m2\u001b[0m\u001b[0;34m]\u001b[0m\u001b[0;34m,\u001b[0m\u001b[0;34m[\u001b[0m\u001b[0;36m4\u001b[0m\u001b[0;34m]\u001b[0m\u001b[0;34m]\u001b[0m\u001b[0;34m,\u001b[0m \u001b[0;34m[\u001b[0m\u001b[0;34m[\u001b[0m\u001b[0;36m3\u001b[0m\u001b[0;34m]\u001b[0m\u001b[0;34m,\u001b[0m\u001b[0;34m[\u001b[0m\u001b[0;36m5\u001b[0m\u001b[0;34m]\u001b[0m\u001b[0;34m]\u001b[0m\u001b[0;34m]\u001b[0m\u001b[0;34m,\u001b[0m \u001b[0mbatch_size\u001b[0m\u001b[0;34m=\u001b[0m\u001b[0;36m3\u001b[0m\u001b[0;34m)\u001b[0m\u001b[0;34m)\u001b[0m\u001b[0;34m\u001b[0m\u001b[0m\n\u001b[0m",
      "\u001b[0;32m~/anaconda3/lib/python3.6/site-packages/keras/models.py\u001b[0m in \u001b[0;36mpredict\u001b[0;34m(self, x, batch_size, verbose, steps)\u001b[0m\n\u001b[1;32m   1025\u001b[0m             \u001b[0mself\u001b[0m\u001b[0;34m.\u001b[0m\u001b[0mbuild\u001b[0m\u001b[0;34m(\u001b[0m\u001b[0;34m)\u001b[0m\u001b[0;34m\u001b[0m\u001b[0m\n\u001b[1;32m   1026\u001b[0m         return self.model.predict(x, batch_size=batch_size, verbose=verbose,\n\u001b[0;32m-> 1027\u001b[0;31m                                   steps=steps)\n\u001b[0m\u001b[1;32m   1028\u001b[0m \u001b[0;34m\u001b[0m\u001b[0m\n\u001b[1;32m   1029\u001b[0m     \u001b[0;32mdef\u001b[0m \u001b[0mpredict_on_batch\u001b[0m\u001b[0;34m(\u001b[0m\u001b[0mself\u001b[0m\u001b[0;34m,\u001b[0m \u001b[0mx\u001b[0m\u001b[0;34m)\u001b[0m\u001b[0;34m:\u001b[0m\u001b[0;34m\u001b[0m\u001b[0m\n",
      "\u001b[0;32m~/anaconda3/lib/python3.6/site-packages/keras/engine/training.py\u001b[0m in \u001b[0;36mpredict\u001b[0;34m(self, x, batch_size, verbose, steps)\u001b[0m\n\u001b[1;32m   1780\u001b[0m         x = _standardize_input_data(x, self._feed_input_names,\n\u001b[1;32m   1781\u001b[0m                                     \u001b[0mself\u001b[0m\u001b[0;34m.\u001b[0m\u001b[0m_feed_input_shapes\u001b[0m\u001b[0;34m,\u001b[0m\u001b[0;34m\u001b[0m\u001b[0m\n\u001b[0;32m-> 1782\u001b[0;31m                                     check_batch_axis=False)\n\u001b[0m\u001b[1;32m   1783\u001b[0m         \u001b[0;32mif\u001b[0m \u001b[0mself\u001b[0m\u001b[0;34m.\u001b[0m\u001b[0mstateful\u001b[0m\u001b[0;34m:\u001b[0m\u001b[0;34m\u001b[0m\u001b[0m\n\u001b[1;32m   1784\u001b[0m             \u001b[0;32mif\u001b[0m \u001b[0mx\u001b[0m\u001b[0;34m[\u001b[0m\u001b[0;36m0\u001b[0m\u001b[0;34m]\u001b[0m\u001b[0;34m.\u001b[0m\u001b[0mshape\u001b[0m\u001b[0;34m[\u001b[0m\u001b[0;36m0\u001b[0m\u001b[0;34m]\u001b[0m \u001b[0;34m>\u001b[0m \u001b[0mbatch_size\u001b[0m \u001b[0;32mand\u001b[0m \u001b[0mx\u001b[0m\u001b[0;34m[\u001b[0m\u001b[0;36m0\u001b[0m\u001b[0;34m]\u001b[0m\u001b[0;34m.\u001b[0m\u001b[0mshape\u001b[0m\u001b[0;34m[\u001b[0m\u001b[0;36m0\u001b[0m\u001b[0;34m]\u001b[0m \u001b[0;34m%\u001b[0m \u001b[0mbatch_size\u001b[0m \u001b[0;34m!=\u001b[0m \u001b[0;36m0\u001b[0m\u001b[0;34m:\u001b[0m\u001b[0;34m\u001b[0m\u001b[0m\n",
      "\u001b[0;32m~/anaconda3/lib/python3.6/site-packages/keras/engine/training.py\u001b[0m in \u001b[0;36m_standardize_input_data\u001b[0;34m(data, names, shapes, check_batch_axis, exception_prefix)\u001b[0m\n\u001b[1;32m     68\u001b[0m     \u001b[0;32melif\u001b[0m \u001b[0misinstance\u001b[0m\u001b[0;34m(\u001b[0m\u001b[0mdata\u001b[0m\u001b[0;34m,\u001b[0m \u001b[0mlist\u001b[0m\u001b[0;34m)\u001b[0m\u001b[0;34m:\u001b[0m\u001b[0;34m\u001b[0m\u001b[0m\n\u001b[1;32m     69\u001b[0m         \u001b[0mdata\u001b[0m \u001b[0;34m=\u001b[0m \u001b[0;34m[\u001b[0m\u001b[0mx\u001b[0m\u001b[0;34m.\u001b[0m\u001b[0mvalues\u001b[0m \u001b[0;32mif\u001b[0m \u001b[0mx\u001b[0m\u001b[0;34m.\u001b[0m\u001b[0m__class__\u001b[0m\u001b[0;34m.\u001b[0m\u001b[0m__name__\u001b[0m \u001b[0;34m==\u001b[0m \u001b[0;34m'DataFrame'\u001b[0m \u001b[0;32melse\u001b[0m \u001b[0mx\u001b[0m \u001b[0;32mfor\u001b[0m \u001b[0mx\u001b[0m \u001b[0;32min\u001b[0m \u001b[0mdata\u001b[0m\u001b[0;34m]\u001b[0m\u001b[0;34m\u001b[0m\u001b[0m\n\u001b[0;32m---> 70\u001b[0;31m         \u001b[0mdata\u001b[0m \u001b[0;34m=\u001b[0m \u001b[0;34m[\u001b[0m\u001b[0mnp\u001b[0m\u001b[0;34m.\u001b[0m\u001b[0mexpand_dims\u001b[0m\u001b[0;34m(\u001b[0m\u001b[0mx\u001b[0m\u001b[0;34m,\u001b[0m \u001b[0;36m1\u001b[0m\u001b[0;34m)\u001b[0m \u001b[0;32mif\u001b[0m \u001b[0mx\u001b[0m \u001b[0;32mis\u001b[0m \u001b[0;32mnot\u001b[0m \u001b[0;32mNone\u001b[0m \u001b[0;32mand\u001b[0m \u001b[0mx\u001b[0m\u001b[0;34m.\u001b[0m\u001b[0mndim\u001b[0m \u001b[0;34m==\u001b[0m \u001b[0;36m1\u001b[0m \u001b[0;32melse\u001b[0m \u001b[0mx\u001b[0m \u001b[0;32mfor\u001b[0m \u001b[0mx\u001b[0m \u001b[0;32min\u001b[0m \u001b[0mdata\u001b[0m\u001b[0;34m]\u001b[0m\u001b[0;34m\u001b[0m\u001b[0m\n\u001b[0m\u001b[1;32m     71\u001b[0m     \u001b[0;32melse\u001b[0m\u001b[0;34m:\u001b[0m\u001b[0;34m\u001b[0m\u001b[0m\n\u001b[1;32m     72\u001b[0m         \u001b[0mdata\u001b[0m \u001b[0;34m=\u001b[0m \u001b[0mdata\u001b[0m\u001b[0;34m.\u001b[0m\u001b[0mvalues\u001b[0m \u001b[0;32mif\u001b[0m \u001b[0mdata\u001b[0m\u001b[0;34m.\u001b[0m\u001b[0m__class__\u001b[0m\u001b[0;34m.\u001b[0m\u001b[0m__name__\u001b[0m \u001b[0;34m==\u001b[0m \u001b[0;34m'DataFrame'\u001b[0m \u001b[0;32melse\u001b[0m \u001b[0mdata\u001b[0m\u001b[0;34m\u001b[0m\u001b[0m\n",
      "\u001b[0;32m~/anaconda3/lib/python3.6/site-packages/keras/engine/training.py\u001b[0m in \u001b[0;36m<listcomp>\u001b[0;34m(.0)\u001b[0m\n\u001b[1;32m     68\u001b[0m     \u001b[0;32melif\u001b[0m \u001b[0misinstance\u001b[0m\u001b[0;34m(\u001b[0m\u001b[0mdata\u001b[0m\u001b[0;34m,\u001b[0m \u001b[0mlist\u001b[0m\u001b[0;34m)\u001b[0m\u001b[0;34m:\u001b[0m\u001b[0;34m\u001b[0m\u001b[0m\n\u001b[1;32m     69\u001b[0m         \u001b[0mdata\u001b[0m \u001b[0;34m=\u001b[0m \u001b[0;34m[\u001b[0m\u001b[0mx\u001b[0m\u001b[0;34m.\u001b[0m\u001b[0mvalues\u001b[0m \u001b[0;32mif\u001b[0m \u001b[0mx\u001b[0m\u001b[0;34m.\u001b[0m\u001b[0m__class__\u001b[0m\u001b[0;34m.\u001b[0m\u001b[0m__name__\u001b[0m \u001b[0;34m==\u001b[0m \u001b[0;34m'DataFrame'\u001b[0m \u001b[0;32melse\u001b[0m \u001b[0mx\u001b[0m \u001b[0;32mfor\u001b[0m \u001b[0mx\u001b[0m \u001b[0;32min\u001b[0m \u001b[0mdata\u001b[0m\u001b[0;34m]\u001b[0m\u001b[0;34m\u001b[0m\u001b[0m\n\u001b[0;32m---> 70\u001b[0;31m         \u001b[0mdata\u001b[0m \u001b[0;34m=\u001b[0m \u001b[0;34m[\u001b[0m\u001b[0mnp\u001b[0m\u001b[0;34m.\u001b[0m\u001b[0mexpand_dims\u001b[0m\u001b[0;34m(\u001b[0m\u001b[0mx\u001b[0m\u001b[0;34m,\u001b[0m \u001b[0;36m1\u001b[0m\u001b[0;34m)\u001b[0m \u001b[0;32mif\u001b[0m \u001b[0mx\u001b[0m \u001b[0;32mis\u001b[0m \u001b[0;32mnot\u001b[0m \u001b[0;32mNone\u001b[0m \u001b[0;32mand\u001b[0m \u001b[0mx\u001b[0m\u001b[0;34m.\u001b[0m\u001b[0mndim\u001b[0m \u001b[0;34m==\u001b[0m \u001b[0;36m1\u001b[0m \u001b[0;32melse\u001b[0m \u001b[0mx\u001b[0m \u001b[0;32mfor\u001b[0m \u001b[0mx\u001b[0m \u001b[0;32min\u001b[0m \u001b[0mdata\u001b[0m\u001b[0;34m]\u001b[0m\u001b[0;34m\u001b[0m\u001b[0m\n\u001b[0m\u001b[1;32m     71\u001b[0m     \u001b[0;32melse\u001b[0m\u001b[0;34m:\u001b[0m\u001b[0;34m\u001b[0m\u001b[0m\n\u001b[1;32m     72\u001b[0m         \u001b[0mdata\u001b[0m \u001b[0;34m=\u001b[0m \u001b[0mdata\u001b[0m\u001b[0;34m.\u001b[0m\u001b[0mvalues\u001b[0m \u001b[0;32mif\u001b[0m \u001b[0mdata\u001b[0m\u001b[0;34m.\u001b[0m\u001b[0m__class__\u001b[0m\u001b[0;34m.\u001b[0m\u001b[0m__name__\u001b[0m \u001b[0;34m==\u001b[0m \u001b[0;34m'DataFrame'\u001b[0m \u001b[0;32melse\u001b[0m \u001b[0mdata\u001b[0m\u001b[0;34m\u001b[0m\u001b[0m\n",
      "\u001b[0;31mAttributeError\u001b[0m: 'list' object has no attribute 'ndim'"
     ]
    }
   ],
   "source": [
    "print(model.predict([[[1],[3]], [[2],[4]], [[3],[5]]], batch_size=3))"
   ]
  },
  {
   "cell_type": "code",
   "execution_count": 77,
   "metadata": {},
   "outputs": [
    {
     "ename": "AttributeError",
     "evalue": "'list' object has no attribute 'shape'",
     "output_type": "error",
     "traceback": [
      "\u001b[0;31m---------------------------------------------------------------------------\u001b[0m",
      "\u001b[0;31mAttributeError\u001b[0m                            Traceback (most recent call last)",
      "\u001b[0;32m<ipython-input-77-b7f471f7ac02>\u001b[0m in \u001b[0;36m<module>\u001b[0;34m()\u001b[0m\n\u001b[1;32m      1\u001b[0m \u001b[0ma\u001b[0m \u001b[0;34m=\u001b[0m \u001b[0;34m[\u001b[0m\u001b[0;36m1\u001b[0m\u001b[0;34m,\u001b[0m\u001b[0;36m2\u001b[0m\u001b[0;34m,\u001b[0m\u001b[0;36m3\u001b[0m\u001b[0;34m]\u001b[0m\u001b[0;34m\u001b[0m\u001b[0m\n\u001b[0;32m----> 2\u001b[0;31m \u001b[0mprint\u001b[0m\u001b[0;34m(\u001b[0m\u001b[0ma\u001b[0m\u001b[0;34m.\u001b[0m\u001b[0mshape\u001b[0m\u001b[0;34m)\u001b[0m\u001b[0;34m\u001b[0m\u001b[0m\n\u001b[0m\u001b[1;32m      3\u001b[0m \u001b[0mb\u001b[0m \u001b[0;34m=\u001b[0m \u001b[0mnp\u001b[0m\u001b[0;34m.\u001b[0m\u001b[0mstack\u001b[0m\u001b[0;34m(\u001b[0m\u001b[0;34m(\u001b[0m\u001b[0ma\u001b[0m\u001b[0;34m,\u001b[0m\u001b[0ma\u001b[0m\u001b[0;34m,\u001b[0m\u001b[0ma\u001b[0m\u001b[0;34m)\u001b[0m\u001b[0;34m)\u001b[0m\u001b[0;34m\u001b[0m\u001b[0m\n\u001b[1;32m      4\u001b[0m \u001b[0mprint\u001b[0m\u001b[0;34m(\u001b[0m\u001b[0mb\u001b[0m\u001b[0;34m.\u001b[0m\u001b[0mshape\u001b[0m\u001b[0;34m)\u001b[0m\u001b[0;34m\u001b[0m\u001b[0m\n",
      "\u001b[0;31mAttributeError\u001b[0m: 'list' object has no attribute 'shape'"
     ]
    }
   ],
   "source": [
    "a = [1,2,3]\n",
    "b = np.stack((a,a,a))\n",
    "print(b.shape)"
   ]
  },
  {
   "cell_type": "code",
   "execution_count": null,
   "metadata": {
    "collapsed": true
   },
   "outputs": [],
   "source": []
  }
 ],
 "metadata": {
  "kernelspec": {
   "display_name": "Python 3",
   "language": "python",
   "name": "python3"
  },
  "language_info": {
   "codemirror_mode": {
    "name": "ipython",
    "version": 3
   },
   "file_extension": ".py",
   "mimetype": "text/x-python",
   "name": "python",
   "nbconvert_exporter": "python",
   "pygments_lexer": "ipython3",
   "version": "3.6.3"
  }
 },
 "nbformat": 4,
 "nbformat_minor": 2
}
