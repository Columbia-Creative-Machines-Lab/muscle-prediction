{
 "cells": [
  {
   "cell_type": "code",
   "execution_count": 1,
   "metadata": {},
   "outputs": [],
   "source": [
    "%matplotlib inline\n",
    "import matplotlib.pyplot as plt\n",
    "import numpy as np\n",
    "import pandas as pd\n",
    "import seaborn as sns"
   ]
  },
  {
   "cell_type": "code",
   "execution_count": 2,
   "metadata": {},
   "outputs": [],
   "source": [
    "sns.set()\n",
    "sns.set_style('whitegrid')"
   ]
  },
  {
   "cell_type": "code",
   "execution_count": 3,
   "metadata": {},
   "outputs": [],
   "source": [
    "df = pd.read_csv('data/cycles-with-features.csv', header=0).drop(labels='Unnamed: 0', axis=1)"
   ]
  },
  {
   "cell_type": "markdown",
   "metadata": {},
   "source": [
    "### Fourier analysis\n",
    "We approximate the 47 training cycles with a sum of sinusoidal cycles. In this case, the discrete fourier transform (DFT) reveals periodicity in input data, which is valuable since the period of each cycle varies over time. DFT is vulnerable to aliasing. The fourier transform of the original signal $ f(t) $ takes the form\n",
    "$$ F(jw) = \\int_{-\\infty}^{\\infty} f(t)e^{-j\\omega t}dt $$"
   ]
  },
  {
   "cell_type": "code",
   "execution_count": 4,
   "metadata": {},
   "outputs": [],
   "source": [
    "pd.options.mode.chained_assignment = None\n",
    "sample = df"
   ]
  },
  {
   "cell_type": "code",
   "execution_count": null,
   "metadata": {},
   "outputs": [],
   "source": [
    "#sample = df[::2]\n",
    "sample['DFT'] = np.abs(np.fft.fft(sample['Load'].values))\n",
    "sample['FREQ'] = np.fft.fftfreq(sample['DFT'].shape[0], 0.1*5)"
   ]
  },
  {
   "cell_type": "markdown",
   "metadata": {},
   "source": [
    "### Interpreting the Fourier analysis\n",
    "We subsample every 5 values for speed. The most intense signals in our 47 cycles occur in the low-frequency domain. From top-left to bottom-right clockwise, we observe plots for: log-intensity against frequency; log-intensity against frequency in the $0-1Hz$ domain, since intensity roughly reflects at $freq=0$; signal intensity against $(0.1s)$ frequency; and a histogram of signal intensity, which expectedly shows that low-intensity signals occur most densely. Spikes at roughly $0.55Hz$ and $0.9Hz$ also reveal high-intensity signals. [Refer to this for more information](https://nipunbatra.github.io/blog/2016/FT.html)."
   ]
  },
  {
   "cell_type": "code",
   "execution_count": null,
   "metadata": {},
   "outputs": [],
   "source": [
    "fig, axes = plt.subplots(nrows=1, ncols=2, figsize=(30, 10)); axes.flat[0].set(yscale=\"log\"); axes.flat[1].set_xlim(0, 1); axes.flat[1].set(yscale=\"log\")\n",
    "sns.regplot('FREQ', 'DFT', sample, ax=axes.flat[0], fit_reg=False, scatter_kws={'s':2, 'alpha':0.5})\n",
    "sns.regplot('FREQ', 'DFT', sample, ax=axes.flat[1], fit_reg=False, scatter_kws={'s':2, 'alpha':0.5});\n",
    "#sns.distplot(sample['DFT'].values, bins=30, kde=False, ax=axes.flat[2]); sns.regplot('FREQ', 'DFT', sample, ax=axes.flat[3], fit_reg=False, scatter_kws={'s':2, 'alpha':0.5})"
   ]
  },
  {
   "cell_type": "code",
   "execution_count": null,
   "metadata": {},
   "outputs": [],
   "source": [
    "fig.savefig('images/fourier-analysis.png')"
   ]
  },
  {
   "cell_type": "markdown",
   "metadata": {},
   "source": [
    "### Fourier extrapolation\n",
    "We can now use patterns found via Fourier analysis to extrapolate future cycles."
   ]
  },
  {
   "cell_type": "code",
   "execution_count": null,
   "metadata": {},
   "outputs": [],
   "source": [
    "def fourierExtrapolation(x, n_predict):\n",
    "    n = x.size\n",
    "    n_harm = 100                     # number of harmonics in model\n",
    "    t = np.arange(0, n)\n",
    "    p = np.polyfit(t, x, 3)         # find linear trend in x\n",
    "    x_notrend = x - p[0] * t        # detrended x\n",
    "    x_freqdom = np.fft.fft(x_notrend)  # detrended x in frequency domain\n",
    "    #x_freqdom = np.fft.fft(x)  # detrended x in frequency domain\n",
    "    f = np.fft.fftfreq(n)              # frequencies\n",
    "    indexes = list(range(n))\n",
    "    # sort indexes by frequency, lower -> higher\n",
    "    indexes.sort(key = lambda i: np.absolute(f[i]))\n",
    " \n",
    "    t = np.arange(0, n + n_predict)\n",
    "    restored_sig = np.zeros(t.size)\n",
    "    for i in indexes[:1 + n_harm * 2]:\n",
    "        ampli = np.absolute(x_freqdom[i]) / n   # amplitude\n",
    "        phase = np.angle(x_freqdom[i])          # phase\n",
    "        restored_sig += ampli * np.cos(2 * np.pi * f[i] * t + phase)\n",
    "    return restored_sig + p[0] * t"
   ]
  },
  {
   "cell_type": "code",
   "execution_count": null,
   "metadata": {},
   "outputs": [],
   "source": [
    "def fourier_extrapolate(sample, n_pred, n_harm): # n_pred = points to predict; n_harm = number of harmonics\n",
    "    t = np.arange(0, sample.shape[0]+n_pred)\n",
    "    sig = np.zeros(t.size)\n",
    "    for i in range(n_harm):\n",
    "        amp = np.absolute(sample['DFT'].iloc[i])\n",
    "        phase = np.angle(sample['DFT'].iloc[i])\n",
    "        sig += amp * np.cos(2*np.pi*sample['FREQ'].iloc[i]*t + phase)\n",
    "    return sig"
   ]
  },
  {
   "cell_type": "code",
   "execution_count": null,
   "metadata": {},
   "outputs": [],
   "source": [
    "fig, axes = plt.subplots(figsize=(20,5))\n",
    "n_pred = 2000\n",
    "ext = fourierExtrapolation(sample['Load'].values, n_pred)\n",
    "#ext = fourier_extrapolate(sample, n_pred, 10000)\n",
    "plt.scatter(np.arange(0, sample['Time'].shape[0]), sample['Load'].values, s=2, alpha=0.5)\n",
    "plt.scatter(np.arange(0, sample['Time'].shape[0] + n_pred), ext, s=2, alpha=0.5)"
   ]
  },
  {
   "cell_type": "code",
   "execution_count": null,
   "metadata": {},
   "outputs": [],
   "source": [
    "fig.savefig('images/fourier-extrapolation.png')"
   ]
  },
  {
   "cell_type": "markdown",
   "metadata": {},
   "source": [
    "### Polynomial interpolation\n",
    "We naively fit $n$-degree polynomials to a single cycle."
   ]
  },
  {
   "cell_type": "code",
   "execution_count": null,
   "metadata": {},
   "outputs": [],
   "source": [
    "c = sample[sample['Cycle']==2]"
   ]
  },
  {
   "cell_type": "code",
   "execution_count": null,
   "metadata": {},
   "outputs": [],
   "source": [
    "fig, axes = plt.subplots(nrows=2, ncols=2, figsize=(30, 10))\n",
    "degrees = [3, 6, 9, 12]\n",
    "for i, ax in enumerate(axes.flat):\n",
    "    fit = np.polyfit(c['Time'].values, c['Load'].values, degrees[i])\n",
    "    yhat = np.polyval(fit, c['Time'].values)\n",
    "    c['PCF'] = yhat\n",
    "    sns.regplot('Time', 'Load', c, ax=axes.flat[i], fit_reg=False, scatter_kws={'s':5, 'alpha': 1.0})\n",
    "    sns.regplot('Time', 'PCF', c, ax=axes.flat[i], fit_reg=False, scatter_kws={'s':5, 'alpha': 1.0})\n",
    "    ax.set_title(str(degrees[i]) + '-degrees')"
   ]
  },
  {
   "cell_type": "markdown",
   "metadata": {},
   "source": [
    "## Evaluating regression on derived features"
   ]
  },
  {
   "cell_type": "markdown",
   "metadata": {},
   "source": [
    "`{ Linear | Ridge | Lasso } regression` provide us with a performance baseline for predicting derived features, namely `Heating`, `Cooling`, `Area`, `Tail`, `Belly`."
   ]
  },
  {
   "cell_type": "code",
   "execution_count": null,
   "metadata": {},
   "outputs": [],
   "source": [
    "from sklearn.preprocessing import StandardScaler\n",
    "from sklearn.model_selection import TimeSeriesSplit\n",
    "from sklearn.linear_model import LinearRegression, Ridge, Lasso, ElasticNet"
   ]
  },
  {
   "cell_type": "code",
   "execution_count": null,
   "metadata": {},
   "outputs": [],
   "source": [
    "df[df['Min']==1].head()"
   ]
  },
  {
   "cell_type": "code",
   "execution_count": null,
   "metadata": {},
   "outputs": [],
   "source": [
    "n_splits = 10\n",
    "clfs = { # classifier : list of scores over time-series cross-validation folds\n",
    "        LinearRegression(): [],\\\n",
    "        Ridge(): [],\\\n",
    "        Lasso(): [],\\\n",
    "        ElasticNet(): []\n",
    "       }\n",
    "\n",
    "tscv = TimeSeriesSplit(n_splits=n_splits)\n",
    "cols = ['Time', 'Load', 'Cycle', 'Heating', 'Cooling', 'Tail', 'Belly']\n",
    "sample = df.dropna(axis=0, how='any').reset_index()\n",
    "X = sample[cols]\n",
    "y = sample['Area']"
   ]
  },
  {
   "cell_type": "code",
   "execution_count": null,
   "metadata": {},
   "outputs": [],
   "source": [
    "for train_index, test_index in tscv.split(X):\n",
    "    # Train-test split for time-series (non-iid) data\n",
    "    X_train, X_test, y_train, y_test = X.iloc[train_index, :], X.iloc[test_index], y.iloc[train_index], y.iloc[test_index]\n",
    "    for i, clf in enumerate(clfs.keys()):\n",
    "        clf.fit(X_train, y_train)\n",
    "        score = clf.score(X_test, y_test)\n",
    "        clfs[clf].append(score)"
   ]
  },
  {
   "cell_type": "markdown",
   "metadata": {},
   "source": [
    "### Regression model accuracy on `Area` over various cross-validation splits\n",
    "We evaluate the performance of several simple linear regression approaches to predicting `Area`."
   ]
  },
  {
   "cell_type": "code",
   "execution_count": null,
   "metadata": {},
   "outputs": [],
   "source": [
    "fig, axes = plt.subplots(nrows=2, ncols=2, figsize=(20,10))\n",
    "for i, clf in enumerate(clfs.keys()):\n",
    "    sns.regplot(pd.Series(np.arange(5, 45, 4)), pd.Series(clfs[clf]), fit_reg=False, ax=axes.flat[i])\n",
    "    axes.flat[i].set_xlabel('# samples of training data')\n",
    "    clf_name = str(clf)[: str(clf).find('(')]\n",
    "    axes.flat[i].set_ylabel(clf_name + ' performance on test samples')\n",
    "fig.savefig('images/linear-performance.png')"
   ]
  },
  {
   "cell_type": "markdown",
   "metadata": {},
   "source": [
    "### Regression model accuracy on `Area` with polynomial-features (nonlinear)"
   ]
  },
  {
   "cell_type": "code",
   "execution_count": null,
   "metadata": {},
   "outputs": [],
   "source": [
    "from sklearn.preprocessing import PolynomialFeatures"
   ]
  },
  {
   "cell_type": "code",
   "execution_count": null,
   "metadata": {},
   "outputs": [],
   "source": [
    "n_splits = 10\n",
    "clfs = { # classifier : list of scores over time-series cross-validation folds\n",
    "        LinearRegression(): [],\\\n",
    "        Ridge(): [],\\\n",
    "        Lasso(): [],\\\n",
    "        ElasticNet(): []\n",
    "       }\n",
    "\n",
    "tscv = TimeSeriesSplit(n_splits=n_splits)\n",
    "cols = ['Time', 'Load', 'Cycle', 'Heating', 'Cooling', 'Tail', 'Belly']\n",
    "sample = df.dropna(axis=0, how='any').reset_index()\n",
    "X = sample[cols]\n",
    "y = sample['Area']"
   ]
  },
  {
   "cell_type": "code",
   "execution_count": null,
   "metadata": {},
   "outputs": [],
   "source": [
    "poly = PolynomialFeatures(include_bias=False)\n",
    "X = poly.fit_transform(X)\n",
    "\n",
    "for train_index, test_index in tscv.split(X):\n",
    "    # Train-test split for time-series (non-iid) data\n",
    "    X_train, X_test, y_train, y_test = X[train_index, :], X[test_index], y.iloc[train_index], y.iloc[test_index]\n",
    "    for i, clf in enumerate(clfs.keys()):\n",
    "        clf.fit(X_train, y_train)\n",
    "        score = clf.score(X_test, y_test)\n",
    "        clfs[clf].append(score)"
   ]
  },
  {
   "cell_type": "markdown",
   "metadata": {},
   "source": [
    "#### We observe that simple regression models' performance does not significantly increase, even when trained to interpret polynomial features."
   ]
  },
  {
   "cell_type": "code",
   "execution_count": null,
   "metadata": {},
   "outputs": [],
   "source": [
    "fig, axes = plt.subplots(nrows=2, ncols=2, figsize=(20,10))\n",
    "for i, clf in enumerate(clfs.keys()):\n",
    "    y = pd.Series(clfs[clf]); y[y<0] = 0\n",
    "    sns.regplot(pd.Series(np.linspace(5, 45, 10)), y, fit_reg=False, ax=axes.flat[i])\n",
    "    axes.flat[i].set_xlabel('# samples of training data')\n",
    "    clf_name = str(clf)[: str(clf).find('(')]\n",
    "    axes.flat[i].set_ylabel(clf_name + ' performance on test samples')\n",
    "fig.savefig('images/polylinear-performance.png')"
   ]
  },
  {
   "cell_type": "markdown",
   "metadata": {},
   "source": [
    "### Kernel-SVM (nonlinear)"
   ]
  },
  {
   "cell_type": "code",
   "execution_count": 5,
   "metadata": {},
   "outputs": [],
   "source": [
    "from sklearn.preprocessing import PolynomialFeatures\n",
    "from sklearn.svm import SVR"
   ]
  },
  {
   "cell_type": "code",
   "execution_count": 6,
   "metadata": {},
   "outputs": [],
   "source": [
    "cols = ['Time', 'Load', 'Cycle', 'Heating', 'Cooling', 'Tail', 'Belly']\n",
    "sample = df.dropna(axis=0, how='any').reset_index()\n",
    "X = sample[cols]\n",
    "y = sample['Area']"
   ]
  },
  {
   "cell_type": "code",
   "execution_count": 7,
   "metadata": {},
   "outputs": [],
   "source": [
    "svr_rbf = SVR(kernel='rbf', cache_size=7000, C=100, gamma=0.1, epsilon=.1)\n",
    "y_rbf = svr_rbf.fit(X, y).predict(X)"
   ]
  },
  {
   "cell_type": "code",
   "execution_count": 8,
   "metadata": {},
   "outputs": [],
   "source": [
    "toydf = sample.iloc[:12, :]\n",
    "X, y = toydf[cols], toydf['Area']"
   ]
  },
  {
   "cell_type": "code",
   "execution_count": null,
   "metadata": {},
   "outputs": [],
   "source": [
    "svr_poly = SVR(kernel='poly', cache_size=7000, C=100, degree=3, epsilon=1, coef0=1)\n",
    "y_poly = svr_poly.fit(X, y).predict(X)"
   ]
  },
  {
   "cell_type": "code",
   "execution_count": null,
   "metadata": {},
   "outputs": [],
   "source": [
    "y_poly"
   ]
  },
  {
   "cell_type": "code",
   "execution_count": null,
   "metadata": {},
   "outputs": [],
   "source": [
    "fig, axes = plt.subplots()\n",
    "sns.regplot(X['Cycle'], y_poly, ax=axes, scatter_kws={'alpha':0.3})\n",
    "sns.regplot(X['Cycle'], toydf['Area'], ax=axes, scatter_kws={'alpha':0.3})"
   ]
  },
  {
   "cell_type": "code",
   "execution_count": null,
   "metadata": {},
   "outputs": [],
   "source": []
  },
  {
   "cell_type": "code",
   "execution_count": null,
   "metadata": {},
   "outputs": [],
   "source": []
  }
 ],
 "metadata": {
  "kernelspec": {
   "display_name": "Python 3",
   "language": "python",
   "name": "python3"
  },
  "language_info": {
   "codemirror_mode": {
    "name": "ipython",
    "version": 3
   },
   "file_extension": ".py",
   "mimetype": "text/x-python",
   "name": "python",
   "nbconvert_exporter": "python",
   "pygments_lexer": "ipython3",
   "version": "3.5.2"
  }
 },
 "nbformat": 4,
 "nbformat_minor": 2
}
