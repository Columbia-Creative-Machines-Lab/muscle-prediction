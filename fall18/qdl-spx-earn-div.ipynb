{
 "cells": [
  {
   "cell_type": "markdown",
   "metadata": {},
   "source": [
    "# Equities: separable components of total return\n",
    "\n",
    "## Enterprise and speculative returns, plus dividend yield\n",
    "\n",
    "We begin by constructing a model for equity price returns\n",
    "by decomposition into enterprise and speculative returns.\n",
    "That model is then tested using S&P 500 data going back\n",
    "to the year 1871 (well-known database assembled by Robert Shiller,\n",
    "Nobel laureate at Yale).\n",
    "\n",
    "We find that the popular percentage approximation model is\n",
    "not appropriate as the time horizon increases.\n",
    "In contrast, the exactitude of the logarithmic model\n",
    "is demonstrated by multivariate regression.\n",
    "\n",
    "The enterprise and speculative returns are then\n",
    "plotted to understand their respective relationship\n",
    "to price dynamics. The Great Recession produced\n",
    "spikes in the data unlike any other in history.\n",
    "\n",
    "Total return is thus the sum of enterprise and speculative returns,\n",
    "plus dividend yield.\n",
    "We examine the dividend payout ratio relative\n",
    "to earnings, and find a local estimate for forecasting.\n",
    "\n",
    "Finally we demonstrate forecasting using the above\n",
    "decomposition of returns and the most recent data.\n",
    "Those results are then compared to an univariate\n",
    "Holt-Winters time-series model in Appendix 1.\n",
    "\n",
    "Appendices 2 and 3 covers the historical characteristics\n",
    "of the three separable components of total return.\n",
    "\n",
    "Reference section briefly relates our findings to Bogle (2015)."
   ]
  },
  {
   "cell_type": "markdown",
   "metadata": {},
   "source": [
    "VIEWING: *if you encounter this message,*\n",
    "[Math Processing Error], *it means\n",
    "GitHub is timing out on rendering LaTeX equations.\n",
    "Please view this notebook at*\n",
    "[Jupyter](http://nbviewer.jupyter.org/github/rsvp/fecon235/blob/master/nb/qdl-spx-earn-div.ipynb)\n",
    "instead. Issue [#3](https://github.com/rsvp/fecon235/issues/3)\n",
    "has been raised in this regard.\n",
    "\n",
    "*Dependencies:*\n",
    "\n",
    "- Repository: https://github.com/rsvp/fecon235\n",
    "- Python: matplotlib, pandas\n",
    "\n",
    "*CHANGE LOG*\n",
    "\n",
    "    2016-03-30  Raise LaTeX math issue #3, and provide alternative Jupyter view.\n",
    "                   Total return summary revised.\n",
    "    2016-03-28  Refactor data retrieval to yi_quandl module.\n",
    "    2016-03-18  Rough draft, test data source directly."
   ]
  },
  {
   "cell_type": "code",
   "execution_count": 1,
   "metadata": {
    "collapsed": true
   },
   "outputs": [],
   "source": [
    "from fecon235.fecon235 import *"
   ]
  },
  {
   "cell_type": "code",
   "execution_count": 2,
   "metadata": {
    "collapsed": false
   },
   "outputs": [
    {
     "name": "stdout",
     "output_type": "stream",
     "text": [
      " ::  Python 2.7.11\n",
      " ::  IPython 4.0.0\n",
      " ::  jupyter 1.0.0\n",
      " ::  notebook 4.0.6\n",
      " ::  matplotlib 1.4.3\n",
      " ::  numpy 1.10.1\n",
      " ::  pandas 0.17.1\n",
      " ::  pandas_datareader 0.2.0\n",
      " ::  Repository: fecon235 v4.16.0221 devBogleSPX\n",
      " ::  Timestamp: 2016-03-29, 19:25:13 UTC\n",
      " ::  $pwd: /media/yaya/virt15h/virt/dbx/Dropbox/ipy/fecon235/nb\n"
     ]
    }
   ],
   "source": [
    "#  PREAMBLE-p6.15.1223 :: Settings and system details\n",
    "from __future__ import absolute_import, print_function\n",
    "system.specs()\n",
    "pwd = system.getpwd()   # present working directory as variable.\n",
    "print(\" ::  $pwd:\", pwd)\n",
    "#  If a module is modified, automatically reload it:\n",
    "%load_ext autoreload\n",
    "%autoreload 2\n",
    "#       Use 0 to disable this feature.\n",
    "\n",
    "#  Notebook DISPLAY options:\n",
    "#      Represent pandas DataFrames as text; not HTML representation:\n",
    "import pandas as pd\n",
    "pd.set_option( 'display.notebook_repr_html', False )\n",
    "#  Beware, for MATH display, use %%latex, NOT the following:\n",
    "#                   from IPython.display import Math\n",
    "#                   from IPython.display import Latex\n",
    "from IPython.display import HTML # useful for snippets\n",
    "#  e.g. HTML('<iframe src=http://en.mobile.wikipedia.org/?useformat=mobile width=700 height=350></iframe>')\n",
    "from IPython.display import Image \n",
    "#  e.g. Image(filename='holt-winters-equations.png', embed=True) # url= also works\n",
    "from IPython.display import YouTubeVideo\n",
    "#  e.g. YouTubeVideo('1j_HxD4iLn8', start='43', width=600, height=400)\n",
    "from IPython.core import page\n",
    "get_ipython().set_hook('show_in_pager', page.as_hook(page.display_page), 0)\n",
    "#  Or equivalently in config file: \"InteractiveShell.display_page = True\", \n",
    "#  which will display results in secondary notebook pager frame in a cell.\n",
    "\n",
    "#  Generate PLOTS inside notebook, \"inline\" generates static png:\n",
    "%matplotlib inline   \n",
    "#          \"notebook\" argument allows interactive zoom and resize."
   ]
  },
  {
   "cell_type": "markdown",
   "metadata": {},
   "source": [
    "## Equities model without interest rates\n",
    "\n",
    "We will test a model for equity price returns which shall\n",
    "exclude the usual considerations for interest rates,\n",
    "the discounting of dividends, and the so-called \"equity risk premium.\"\n",
    "\n",
    "Let us begin with the obvious:\n",
    "\n",
    "$$ p_t = x_t s_t \\qquad\\hbox{where}\\quad  s_t = p_t / x_t $$\n",
    "\n",
    "Price per share at time t will be represented by $p_t$,\n",
    "and the earnings per share by $x_t$.\n",
    "Thus $s_t$ is the usual price/earnings ratio."
   ]
  },
  {
   "cell_type": "markdown",
   "metadata": {},
   "source": [
    "Taking the log of both sides, we can get two equations for different epochs:\n",
    "\n",
    "$$ \\eqalign{ \\log p_t &= \\log x_t + \\log s_t \\cr\n",
    "   \\log p_{t-n} &= \\log x_{t-n} + \\log s_{t-n} \\cr}$$\n",
    "   \n",
    "Subtracting the second equation from the first, given $n > 0$, we obtain:\n",
    "\n",
    "$$ \\eqalign{ \\log {p_t \\over p_{t-n}} &= \\log {x_t \\over x_{t-n}} + \\log {s_t \\over s_{t-n}} \\cr\n",
    "   P_t &= X_t + S_t \\qquad\\hbox{for some implicit  } n.\\cr }$$"
   ]
  },
  {
   "cell_type": "markdown",
   "metadata": {},
   "source": [
    "Note: $\\log(1+\\psi) \\approx \\psi$, for small $\\psi$ where $\\psi$\n",
    "can be expressed in percentage terms.\n",
    "The capitalized variables thus can be approximately interpreted as follows:\n",
    "percentage *price change* $P_t$ is equal to percentage *earnings growth* $X_t$\n",
    "plus the percentage *change in price/earnings ratio* $S_t$ --\n",
    "over $n$ periods.\n",
    "\n",
    "However, more exactly, a ***capitalized variable*** is the difference\n",
    "in logarithmic values of the lower case variables over $n$ periods.\n",
    "As we shall see, $X_t$ can be interpreted as **enterprise return**,\n",
    "whereas $S_t$ can be characterized as **speculative return**."
   ]
  },
  {
   "cell_type": "markdown",
   "metadata": {},
   "source": [
    "## Data specification and retrieval\n",
    "\n",
    "We shall rely upon Quandl [MULTPL](https://www.quandl.com/data/MULTPL)\n",
    "database which actively updates the famous series made public by\n",
    "Robert [Shiller](http://www.econ.yale.edu/~shiller/data.htm)\n",
    "in his Nobel prize-winning work. Shiller keeps his data\n",
    "in an [Excel spreadsheet](http://www.econ.yale.edu/~shiller/data/ie_data.xls),\n",
    "but our downloaded data will be in pandas Dataframe format.\n",
    "We have also doubled-checked the data with CSV formatted\n",
    "[okfn.org](http://data.okfn.org/data/core/s-and-p-500)\n",
    "and its GitHub [datasets](https://github.com/datasets/s-and-p-500)\n",
    "repository.\n",
    "\n",
    "The economics department at Yale also maintains the Shiller database\n",
    "at Quandl [YALE](https://www.quandl.com/data/YALE/SPCOMP-S-P-Composite),\n",
    "but unfortunately, there seems to be a nine month latency.\n",
    "Here is **Shiller's own description of the data:**\n",
    "\n",
    "> \"Stock market data used in my book, *Irrational Exuberance*\n",
    "[Princeton University Press 2000, Broadway Books 2001, 2nd ed., 2005]\n",
    "are available for download: U.S. Stock Markets 1871-Present and CAPE Ratio.\n",
    "This data set consists of **monthly** stock price, dividends, and earnings\n",
    "data and the consumer price index (to allow conversion to real values),\n",
    "all **starting January 1871**. The price, dividend, and earnings series\n",
    "are from the same sources as described in Chapter 26 of my earlier book\n",
    "(*Market Volatility* [Cambridge, MA: MIT Press, 1989]),\n",
    "although now I use monthly data, rather than annual data.\n",
    "Monthly dividend and earnings data are computed from the\n",
    "S&P four-quarter totals for the quarter since 1926,\n",
    "with linear interpolation to monthly figures.\n",
    "Dividend and earnings data before 1926 are from Cowles and associates, \n",
    "*Common Stock Indexes* [2nd ed. Principia Press 1939],\n",
    "interpolated from annual data.\n",
    "Stock price data are monthly averages of daily closing prices.\"\n",
    "\n",
    "For our earnings data, we shall ignore Shiller's CAPE ratio,\n",
    "and instead use the raw *nominal* data (not inflation-adjusted),\n",
    "although *real* data has also been reconstructed by Shiller.\n",
    "\n",
    "The explicit munging details of the download functions\n",
    "are located in our *yi_quandl* module."
   ]
  },
  {
   "cell_type": "code",
   "execution_count": 3,
   "metadata": {
    "collapsed": false
   },
   "outputs": [],
   "source": [
    "#  m4 implies monthly frequency:\n",
    "#                   price:\n",
    "p = get( m4spx_1871_p )\n",
    "\n",
    "#                   earnings over 12-months:\n",
    "x = get( m4spx_1871_e )\n",
    "\n",
    "#  We want non-inflation adjusted data for this notebook."
   ]
  },
  {
   "cell_type": "code",
   "execution_count": 4,
   "metadata": {
    "collapsed": true
   },
   "outputs": [],
   "source": [
    "#  Compute price/earnings ratio:\n",
    "s = todf( p / x )"
   ]
  },
  {
   "cell_type": "code",
   "execution_count": 5,
   "metadata": {
    "collapsed": true
   },
   "outputs": [],
   "source": [
    "#  Apply numpy natural logarithm:\n",
    "plog = np.log( p )\n",
    "xlog = np.log( x )\n",
    "slog = np.log( s )"
   ]
  },
  {
   "cell_type": "markdown",
   "metadata": {},
   "source": [
    "### Shape the data: endpoints, n, and transform methods\n",
    "\n",
    "**START** specific tests from the next cell:"
   ]
  },
  {
   "cell_type": "code",
   "execution_count": 6,
   "metadata": {
    "collapsed": true
   },
   "outputs": [],
   "source": [
    "#  RE-RUN the REGRESSION starting from this cell, varying specs:\n",
    "\n",
    "#  Raw data starts 1871-01-01, but shall allow lags up to 24 months:\n",
    "\n",
    "start = '1873-01-01'\n",
    "end   = '2100-01-01'\n",
    "\n",
    "#  Compute changes over freq of n periods:\n",
    "\n",
    "n = 12\n",
    "\n",
    "#  Percentage transform is approximate, but widely used,\n",
    "#  whereas logarithmic transform gives exact results.\n",
    "transform = \"%\"\n",
    "transform = \"log\""
   ]
  },
  {
   "cell_type": "code",
   "execution_count": 7,
   "metadata": {
    "collapsed": false
   },
   "outputs": [],
   "source": [
    "## This is the approximate PERCENTAGE transforms: \n",
    "\n",
    "if transform == \"%\":\n",
    "    P  = div( pcent(p, n), n ) * 12\n",
    "    X  = div( pcent(x, n), n ) * 12\n",
    "    S  = div( pcent(s, n), n ) * 12\n",
    "\n",
    "#  div() is our numpy function for Python 2 and 3 division.\n",
    "#  The div() and the 12 annualizes the percentage."
   ]
  },
  {
   "cell_type": "code",
   "execution_count": 8,
   "metadata": {
    "collapsed": false
   },
   "outputs": [],
   "source": [
    "## This is the exact LOG differencing transforms: \n",
    "\n",
    "if transform == \"log\":\n",
    "    P  = div( dif(plog, n), n ) * 12\n",
    "    X  = div( dif(xlog, n), n ) * 12\n",
    "    S  = div( dif(slog, n), n ) * 12\n",
    "\n",
    "#  div() is our numpy function for Python 2 and 3 division.\n",
    "#  The div() and the 12 annualizes the result."
   ]
  },
  {
   "cell_type": "code",
   "execution_count": 9,
   "metadata": {
    "collapsed": false
   },
   "outputs": [],
   "source": [
    "#  Create a mega Dataframe:\n",
    "mega = paste([ p, x, s, P, X, S ])\n",
    "\n",
    "#  Then name the columns:\n",
    "mega.columns = [\"p\", \"x\", \"s\", \"P\", \"X\", \"S\"]"
   ]
  },
  {
   "cell_type": "code",
   "execution_count": 10,
   "metadata": {
    "collapsed": false,
    "scrolled": true
   },
   "outputs": [
    {
     "name": "stdout",
     "output_type": "stream",
     "text": [
      "                 p            x            s            P            X  \\\n",
      "count  1730.000000  1730.000000  1730.000000  1730.000000  1730.000000   \n",
      "mean    228.468734    11.832738    15.599659     0.042127     0.037805   \n",
      "std     448.612672    22.093790     8.433497     0.185736     0.291122   \n",
      "min       2.730000     0.159970     5.310000    -1.067382    -2.175001   \n",
      "25%       7.772500     0.550071    11.310000    -0.064418    -0.075170   \n",
      "50%      15.960000     1.290224    14.645000     0.063599     0.052257   \n",
      "75%     110.875000    12.562169    17.870000     0.169694     0.158506   \n",
      "max    2111.940000   105.966507   123.730000     0.807153     2.189681   \n",
      "\n",
      "                 S  \n",
      "count  1730.000000  \n",
      "mean      0.004322  \n",
      "std       0.282146  \n",
      "min      -2.032863  \n",
      "25%      -0.132400  \n",
      "50%       0.003927  \n",
      "75%       0.159135  \n",
      "max       1.621470  \n",
      "\n",
      " ::  Index on min:\n",
      "p   1877-06-01 00:00:00\n",
      "x   1894-12-01 00:00:00\n",
      "s            1917-12-01\n",
      "P            1932-06-01\n",
      "X            2009-03-01\n",
      "S            2010-06-01\n",
      "dtype: datetime64[ns]\n",
      "\n",
      " ::  Index on max:\n",
      "p   2015-05-01\n",
      "x   2014-09-01\n",
      "s   2009-05-01\n",
      "P   1933-07-01\n",
      "X   2010-06-01\n",
      "S   2009-03-01\n",
      "dtype: datetime64[ns]\n",
      "\n",
      " ::  Head:\n",
      "                        p         x      s         P         X         S\n",
      "T                                                                       \n",
      "1872-01-01 00:00:00  4.86  0.400000  12.15  0.090384  0.000000  0.090384\n",
      "1872-02-01 00:00:00  4.88  0.410084  11.90  0.081068  0.024898  0.056170\n",
      "1872-03-01 00:00:00  5.04  0.410090  12.29  0.089178  0.025345  0.063834\n",
      "1872-04-01 00:00:00  5.18  0.410135  12.63  0.088768  0.025021  0.063747\n",
      "1872-05-01 00:00:00  5.18  0.410135  12.63  0.063767  0.025021  0.038746\n",
      "1872-06-01 00:00:00  5.13  0.420147  12.21  0.062332  0.049141  0.013191\n",
      "1872-07-01 00:00:00  5.10  0.420099  12.14  0.075315  0.049448  0.025867\n",
      "\n",
      " ::  Tail:\n",
      "                  p          x      s         P         X         S\n",
      "T                                                                  \n",
      "2015-08-01  2039.87  92.093454  22.15  0.039161 -0.131223  0.170384\n",
      "2015-09-01  1944.41  90.648485  21.45 -0.024798 -0.156134  0.131336\n",
      "2015-10-01  2024.81  90.676668  22.33  0.044196 -0.143964  0.188160\n",
      "2015-11-01  2080.62  90.658824  22.95  0.017478 -0.132686  0.150164\n",
      "2015-12-01  2054.08  90.647838  22.66 -0.000092 -0.120969  0.120877\n",
      "2016-01-01  1918.60  90.671078  21.16 -0.055543 -0.110924  0.055381\n",
      "2016-02-01  1903.03  90.663649  20.99 -0.089978 -0.100514  0.010536\n",
      "\n",
      " ::  Correlation matrix:\n",
      "          p         x         s         P         X         S\n",
      "p  1.000000  0.957502  0.429807  0.095630  0.045412  0.016097\n",
      "x  0.957502  1.000000  0.235646  0.137382  0.160301 -0.074962\n",
      "s  0.429807  0.235646  1.000000 -0.047242 -0.463972  0.447633\n",
      "P  0.095630  0.137382 -0.047242  1.000000  0.366581  0.280056\n",
      "X  0.045412  0.160301 -0.463972  0.366581  1.000000 -0.790493\n",
      "S  0.016097 -0.074962  0.447633  0.280056 -0.790493  1.000000\n"
     ]
    }
   ],
   "source": [
    "stats( mega )"
   ]
  },
  {
   "cell_type": "markdown",
   "metadata": {},
   "source": [
    "## Apply regression to test  model\n",
    "\n",
    "The correlation matrix above gives us some partial insight\n",
    "into pairwise relationships. We would expect P and X\n",
    "to be strongly correlated.\n",
    "\n",
    "Next we conduct a multivariate regression by specifying the\n",
    "form of the theoretical model. We suppress estimation of\n",
    "the intercept by using \"0\" within regressformula().\n",
    "Obviously, the coefficients for X and S should\n",
    "to be close to 1 -- but the results are quite unexpected\n",
    "for the approximative model."
   ]
  },
  {
   "cell_type": "code",
   "execution_count": 11,
   "metadata": {
    "collapsed": false
   },
   "outputs": [],
   "source": [
    "# Get more info on regression by: regressformula??\n",
    "\n",
    "result = regressformula( mega[start:end], \"P ~ 0 + X + S\" )\n",
    "#                            ^possible truncation of Dataframe"
   ]
  },
  {
   "cell_type": "code",
   "execution_count": 12,
   "metadata": {
    "collapsed": false
   },
   "outputs": [
    {
     "name": "stdout",
     "output_type": "stream",
     "text": [
      "                            OLS Regression Results                            \n",
      "==============================================================================\n",
      "Dep. Variable:                      P   R-squared:                       1.000\n",
      "Model:                            OLS   Adj. R-squared:                  1.000\n",
      "Method:                 Least Squares   F-statistic:                 2.630e+32\n",
      "Date:                Tue, 29 Mar 2016   Prob (F-statistic):               0.00\n",
      "Time:                        12:25:27   Log-Likelihood:                 58729.\n",
      "No. Observations:                1718   AIC:                        -1.175e+05\n",
      "Df Residuals:                    1716   BIC:                        -1.174e+05\n",
      "Df Model:                           2                                         \n",
      "Covariance Type:            nonrobust                                         \n",
      "==============================================================================\n",
      "                 coef    std err          t      P>|t|      [95.0% Conf. Int.]\n",
      "------------------------------------------------------------------------------\n",
      "X              1.0000   4.54e-17    2.2e+16      0.000         1.000     1.000\n",
      "S              1.0000   4.72e-17   2.12e+16      0.000         1.000     1.000\n",
      "==============================================================================\n",
      "Omnibus:                       40.584   Durbin-Watson:                   1.713\n",
      "Prob(Omnibus):                  0.000   Jarque-Bera (JB):               81.234\n",
      "Skew:                          -0.114   Prob(JB):                     2.29e-18\n",
      "Kurtosis:                       4.040   Cond. No.                         2.86\n",
      "==============================================================================\n",
      "\n",
      "Warnings:\n",
      "[1] Standard Errors assume that the covariance matrix of the errors is correctly specified.\n"
     ]
    }
   ],
   "source": [
    "print( result.summary() )"
   ]
  },
  {
   "cell_type": "code",
   "execution_count": 13,
   "metadata": {
    "collapsed": false
   },
   "outputs": [
    {
     "name": "stdout",
     "output_type": "stream",
     "text": [
      "Confirming: transform= log , n= 12 , start= 1873-01-01 , end= 2100-01-01\n"
     ]
    }
   ],
   "source": [
    "print(\"Confirming: transform=\", transform, \", n=\", n, \", start=\", start, \", end=\", end)"
   ]
  },
  {
   "cell_type": "markdown",
   "metadata": {},
   "source": [
    "**END** specific tests from multivariate regression.\n",
    "\n",
    "---\n",
    "\n",
    "## Terrible percentage approximation\n",
    "\n",
    "In many studies, the percentage approximation is used to examine returns,\n",
    "perhaps because conceptually it is readily understood.\n",
    "By executing the above regression while *commenting out* the **transform=\"log\"** line,\n",
    "we can replicate the following results for various n values. As n increases,\n",
    "the R-squared statistic worsens considerably and the coefficients deviate farther away\n",
    "from the theoretical value of 1. Let $\\varepsilon_t$ be the estimation error, then:\n",
    "\n",
    "$$\\eqalign{\n",
    "\\varepsilon_t &= \\hat{P_t} - P_t \\cr\n",
    "\\hat{P_t} &= 0.78 X_t + 0.91 S_t + \\varepsilon_t \\qquad \\hbox{for  } n=1 \\quad R^2=0.90 \\cr\n",
    "\\hat{P_t} &= 0.41 X_t + 0.61 S_t + \\varepsilon_t \\qquad \\hbox{for  } n=3 \\quad R^2=0.57 \\cr\n",
    "\\hat{P_t} &= 0.19 X_t + 0.30 S_t + \\varepsilon_t \\qquad \\hbox{for  } n=6 \\quad R^2=0.27 \\cr\n",
    "\\hat{P_t} &= 0.15 X_t + 0.23 S_t + \\varepsilon_t \\qquad \\hbox{for  } n=12 \\quad R^2=0.21 \\cr\n",
    "}$$\n",
    "\n",
    "The errors can be traced to the data reality that $\\psi$\n",
    "cannot be assumed to be small, for there were indeed some\n",
    "extreme changes in the course of 143 years.\n",
    "Lengthening $n$ also contributes to violating that\n",
    "numerical approximation."
   ]
  },
  {
   "cell_type": "markdown",
   "metadata": {},
   "source": [
    "## Exact results using log transform\n",
    "\n",
    "Thankfully the data (and algorithms) confirm the mathematical\n",
    "derivation of our model when the **transform=\"log\"** line is in effect:\n",
    "\n",
    "$$\\eqalign{\n",
    "\\hat{P_t} &= 1.00 X_t + 1.00 S_t + \\varepsilon_t \\qquad \\hbox{for all  } n \\quad R^2=1.00 \\cr\n",
    "}$$\n",
    "\n",
    "Increasing $n$ has no effect on our results, which was entirely expected.\n",
    "This can be verified by re-executing the appropriate sections\n",
    "of this notebook with different parameters.\n",
    "\n",
    "In view of our findings, we make the this revision:\n",
    "**the *logarithmic* price change $P_t$ is *exactly* equal to the\n",
    "*logarithmic* earnings change $X_t$\n",
    "plus the change in *logarithmic* price/earnings ratio $S_t$ --\n",
    "over $n$ periods.**\n",
    "\n",
    "The pairwise correlations, however, were somewhat surprisingly low.\n",
    "For example, for $n=12$, the correlation between $P_t$ and $X_t$\n",
    "was 0.37, and the correlation between $P_t$ and $S_t$ was 0.28.\n",
    "But of course, as an ensemble, they mesh together perfectly."
   ]
  },
  {
   "cell_type": "markdown",
   "metadata": {},
   "source": [
    "## Further details regarding X and S\n",
    "\n",
    "The two variables $X_t$ and $S_t$ have the same functional form\n",
    "and the same coefficient weights, yet\n",
    "the mean of the former is 0.03781 and\n",
    "the mean of the latter 0.00432,\n",
    "which differs by a factor of 8.75 (when $n=12$).\n",
    "This indicates **earnings growth contributes far more\n",
    "to price appreciation than variation in the price/earnings ratio.**\n",
    "However, in Appendix 2 we see how the volatility of the price/earnings ratio\n",
    "could obscure this finding over a short observation period.\n",
    "\n",
    "Since our data has monthly frequency, we shall focus on\n",
    "cases where $n$ is a multiple of 12.\n",
    "This is to mitigate the possibility of observing seasonal effects.\n",
    "\n",
    "Since the logarithms of the raw data are clearly crucial,\n",
    "let us see their stats:"
   ]
  },
  {
   "cell_type": "code",
   "execution_count": 14,
   "metadata": {
    "collapsed": false
   },
   "outputs": [
    {
     "name": "stdout",
     "output_type": "stream",
     "text": [
      "                pl           xl           sl\n",
      "count  1718.000000  1718.000000  1718.000000\n",
      "mean      3.601719     0.933360     2.668359\n",
      "std       1.920100     1.785019     0.375661\n",
      "min       1.004302    -1.832767     1.669592\n",
      "25%       2.068128    -0.562372     2.423695\n",
      "50%       2.786243     0.288687     2.686827\n",
      "75%       4.733979     2.537636     2.884521\n",
      "max       7.655362     4.663123     4.818102\n",
      "\n",
      " ::  Index on min:\n",
      "pl   1877-06-01 00:00:00\n",
      "xl   1894-12-01 00:00:00\n",
      "sl            1917-12-01\n",
      "dtype: datetime64[ns]\n",
      "\n",
      " ::  Index on max:\n",
      "pl   2015-05-01\n",
      "xl   2014-09-01\n",
      "sl   2009-05-01\n",
      "dtype: datetime64[ns]\n",
      "\n",
      " ::  Head:\n",
      "                           pl        xl        sl\n",
      "T                                                \n",
      "1873-01-01 00:00:00  1.631199 -0.843657  2.474856\n",
      "1873-02-01 00:00:00  1.638997 -0.820592  2.459589\n",
      "1873-03-01 00:00:00  1.631199 -0.820667  2.451867\n",
      "1873-04-01 00:00:00  1.617406 -0.820584  2.437990\n",
      "1873-05-01 00:00:00  1.619388 -0.821218  2.440606\n",
      "1873-06-01 00:00:00  1.605430 -0.798809  2.404239\n",
      "1873-07-01 00:00:00  1.603420 -0.798105  2.401525\n",
      "\n",
      " ::  Tail:\n",
      "                  pl        xl        sl\n",
      "T                                       \n",
      "2015-08-01  7.620641  4.522804  3.097837\n",
      "2015-09-01  7.572714  4.506989  3.065725\n",
      "2015-10-01  7.613231  4.507300  3.105931\n",
      "2015-11-01  7.640421  4.507103  3.133318\n",
      "2015-12-01  7.627583  4.506982  3.120601\n",
      "2016-01-01  7.559351  4.507238  3.052113\n",
      "2016-02-01  7.551203  4.507156  3.044046\n",
      "\n",
      " ::  Correlation matrix:\n",
      "          pl        xl        sl\n",
      "pl  1.000000  0.982075  0.444759\n",
      "xl  0.982075  1.000000  0.267964\n",
      "sl  0.444759  0.267964  1.000000\n"
     ]
    }
   ],
   "source": [
    "rawlog = paste([plog, xlog, slog])\n",
    "rawlog.columns = [\"pl\", \"xl\", \"sl\"]\n",
    "rawlog = rawlog[start:end]\n",
    "#  We intentionally use \"start\" and \"end\"\n",
    "#  to remain consistent with above analysis.\n",
    "\n",
    "stats( rawlog )"
   ]
  },
  {
   "cell_type": "markdown",
   "metadata": {},
   "source": [
    "Next we visualise their history.\n",
    "Over the long-term, the logarithmic scale (on the y-axis)\n",
    "is more suitable than the ordinary scale\n",
    "to discern changes in value.\n",
    "For example, the drop in logarithmic earnings during the\n",
    "Great Recession was surprisingly far greater than during the Great Depression!"
   ]
  },
  {
   "cell_type": "code",
   "execution_count": 15,
   "metadata": {
    "collapsed": false
   },
   "outputs": [
    {
     "data": {
      "image/png": "[encoded data removed]",
      "text/plain": [
       "<matplotlib.figure.Figure at 0xabf69f0c>"
      ]
     },
     "metadata": {},
     "output_type": "display_data"
    }
   ],
   "source": [
    "#        log of SPX price:\n",
    "plot( rawlog.pl )"
   ]
  },
  {
   "cell_type": "code",
   "execution_count": 16,
   "metadata": {
    "collapsed": false
   },
   "outputs": [
    {
     "data": {
      "image/png": "[encoded data removed]",
      "text/plain": [
       "<matplotlib.figure.Figure at 0xabf46d2c>"
      ]
     },
     "metadata": {},
     "output_type": "display_data"
    }
   ],
   "source": [
    "#        log of SPX earnings:\n",
    "plot( rawlog.xl )"
   ]
  },
  {
   "cell_type": "code",
   "execution_count": 17,
   "metadata": {
    "collapsed": false
   },
   "outputs": [
    {
     "data": {
      "image/png": "[encoded data removed]",
      "text/plain": [
       "<matplotlib.figure.Figure at 0xabd70bec>"
      ]
     },
     "metadata": {},
     "output_type": "display_data"
    }
   ],
   "source": [
    "#        log of SPX price/earnings ratio:\n",
    "plot( rawlog.sl )"
   ]
  },
  {
   "cell_type": "markdown",
   "metadata": {},
   "source": [
    "Looking for possible outliers, we are struck by the violent downward spike\n",
    "occuring during the Great Recession in the earnings data.\n",
    "\n",
    "Looking for possible trends, we can see how the price dynamics\n",
    "is fundamentally related to earnings growth. In fact,\n",
    "the **correlation between pl and xl is 0.98** -- which\n",
    "justifies calling *earnings growth* $X_t$: the **enterprise return**\n",
    "portion of total return (to be discussed in the final sections).\n",
    "\n",
    "Prior to 1989, sl looked almost trendless, bouncing roughly\n",
    "between 2 and 3. Now raw s is the price/earnings ratio,\n",
    "which is basically the multiplier to earnings at which\n",
    "an \"investor\" has implicitly paid at market.\n",
    "An investor's optimism for a higher re-evaluation,\n",
    "from other investors, of some given earnings level can\n",
    "be encapsulated by positive change in the price/earnings rato.\n",
    "This is the reason behind calling $S_t$\n",
    "the market's **speculative return**."
   ]
  },
  {
   "cell_type": "code",
   "execution_count": 18,
   "metadata": {
    "collapsed": false
   },
   "outputs": [
    {
     "name": "stdout",
     "output_type": "stream",
     "text": [
      "                 Y\n",
      "count  1742.000000\n",
      "mean     15.573008\n",
      "std       8.410519\n",
      "min       5.310000\n",
      "25%      11.312500\n",
      "50%      14.615000\n",
      "75%      17.830000\n",
      "max     123.730000\n"
     ]
    }
   ],
   "source": [
    "#  This is raw price/earnings:\n",
    "stat( s )"
   ]
  },
  {
   "cell_type": "markdown",
   "metadata": {},
   "source": [
    "The max on raw price/earnings is 123.73 which is not an\n",
    "outlier but due to the dramatic drop in earnings\n",
    "during the Great Recession (quite evident from the plots).\n",
    "By restricting the datetime index to end at 2000-01-01,\n",
    "we estimate the all-time mean price/earnings to be around 15\n",
    "(note $log 15 = 2.71$ and our remark on trendless sl).\n",
    "The standard deviation drops from 8.4 to 4.6\n",
    "due to that restriction."
   ]
  },
  {
   "cell_type": "code",
   "execution_count": 19,
   "metadata": {
    "collapsed": false
   },
   "outputs": [
    {
     "name": "stdout",
     "output_type": "stream",
     "text": [
      "                 Y\n",
      "count  1549.000000\n",
      "mean     14.248799\n",
      "std       4.528267\n",
      "min       5.310000\n",
      "25%      10.970000\n",
      "50%      13.860000\n",
      "75%      17.080000\n",
      "max      34.000000\n"
     ]
    }
   ],
   "source": [
    "#  Price/earnings prior to the year 2000:\n",
    "stat( s[:'2000-01-01'] )"
   ]
  },
  {
   "cell_type": "markdown",
   "metadata": {},
   "source": [
    "## Dividends and the payout ratio\n",
    "\n",
    "Roughly speaking, dividends are taken out of earnings and paid out to investors.\n",
    "We are interested in the payout ratio\n",
    "which will later help give better forecasts of the dividend yield."
   ]
  },
  {
   "cell_type": "code",
   "execution_count": 20,
   "metadata": {
    "collapsed": false
   },
   "outputs": [],
   "source": [
    "#  Dividends paid over 12-months, monthly frequency:\n",
    "d = get( m4spx_1871_d )"
   ]
  },
  {
   "cell_type": "code",
   "execution_count": 21,
   "metadata": {
    "collapsed": false
   },
   "outputs": [],
   "source": [
    "## Uncomment to see raw 12-month dividend:\n",
    "#  d"
   ]
  },
  {
   "cell_type": "code",
   "execution_count": 22,
   "metadata": {
    "collapsed": false
   },
   "outputs": [],
   "source": [
    "#  We want to compute the PAYOUT ratio = dividends/earnings\n",
    "divearn = todf( d / x )"
   ]
  },
  {
   "cell_type": "code",
   "execution_count": 23,
   "metadata": {
    "collapsed": false
   },
   "outputs": [],
   "source": [
    "## Uncomment to see payout ratio data:\n",
    "#  divearn"
   ]
  },
  {
   "cell_type": "code",
   "execution_count": 24,
   "metadata": {
    "collapsed": false
   },
   "outputs": [
    {
     "data": {
      "image/png": "[encoded data removed]",
      "text/plain": [
       "<matplotlib.figure.Figure at 0xabcfe38c>"
      ]
     },
     "metadata": {},
     "output_type": "display_data"
    }
   ],
   "source": [
    "#  Plot payout ratio = dividends/earnings:\n",
    "plot( divearn )"
   ]
  },
  {
   "cell_type": "code",
   "execution_count": 25,
   "metadata": {
    "collapsed": false
   },
   "outputs": [
    {
     "name": "stdout",
     "output_type": "stream",
     "text": [
      "                 Y\n",
      "count  1740.000000\n",
      "mean      0.614891\n",
      "std       0.258620\n",
      "min       0.288538\n",
      "25%       0.488346\n",
      "50%       0.576191\n",
      "75%       0.686378\n",
      "max       3.973320\n"
     ]
    }
   ],
   "source": [
    "stat( divearn )"
   ]
  },
  {
   "cell_type": "markdown",
   "metadata": {},
   "source": [
    "On average, we would expect divearn to be less than 1, since\n",
    "earnings are the primary source for paying out the dividends.\n",
    "\n",
    "Sometimes, however, entreprises may hold steady their dividends\n",
    "while earnings plunge -- for example, during the\n",
    "Great Recession, the payout ratio went as high as 4.\n",
    "But as the plot shows this is highly unusual.\n",
    "\n",
    "Historically we can observe a slight downward trend in the payout ratio\n",
    "over the very long-term. The mean payout ratio is 0.61."
   ]
  },
  {
   "cell_type": "markdown",
   "metadata": {},
   "source": [
    "# TOTAL RETURN for Equities\n",
    "\n",
    "The total return $T_t$ for equities is composed of the logarithmic price change\n",
    "plus the dividend yield, over $n$ periods. We shall let $\\lambda$ be\n",
    "the dividend payout ratio relative to earnings $x_i$,\n",
    "such that the index $i$ is understood to cover periods $t-n$ through $t$.\n",
    "Thus, we can write:\n",
    "\n",
    "$$ T_t = P_t + {{\\lambda \\sum x_i } \\over p_{t-n}} $$\n",
    "\n",
    "Inserting our model in place of $P_t$, we obtain total return as follows:\n",
    "\n",
    "$$ T_t = X_t + S_t + {{\\lambda \\sum x_i } \\over p_{t-n}} $$"
   ]
  },
  {
   "cell_type": "markdown",
   "metadata": {},
   "source": [
    "# Forecasting total return\n",
    "\n",
    "The term lambda $\\lambda$ should be a stochastic variable, but we shall\n",
    "treat it locally as a constant (see plot of divearn).\n",
    "We utilize the median, rather than the mean, since\n",
    "that is a far more robust statistic.\n",
    "\n",
    "To estimate the other variables we localize our data to\n",
    "the last three years, which gives 36 monthly points of data."
   ]
  },
  {
   "cell_type": "code",
   "execution_count": 26,
   "metadata": {
    "collapsed": true
   },
   "outputs": [],
   "source": [
    "#  For localizing forecasts:\n",
    "nlocal = 36\n",
    "\n",
    "#  We can also make \"backcasts\" by backdating this date variable,\n",
    "#  or specify a date far in the future to use the most current data:\n",
    "last = '2100-01-01'"
   ]
  },
  {
   "cell_type": "markdown",
   "metadata": {},
   "source": [
    "### Estimating future dividend yield"
   ]
  },
  {
   "cell_type": "code",
   "execution_count": 27,
   "metadata": {
    "collapsed": false
   },
   "outputs": [
    {
     "data": {
      "text/plain": [
       "0.36610350000000003"
      ]
     },
     "execution_count": 27,
     "metadata": {},
     "output_type": "execute_result"
    }
   ],
   "source": [
    "#  Estimated local lambda:\n",
    "Elambda = np.median( tail(divearn[:last], nlocal) )\n",
    "Elambda"
   ]
  },
  {
   "cell_type": "code",
   "execution_count": 28,
   "metadata": {
    "collapsed": false
   },
   "outputs": [
    {
     "data": {
      "text/plain": [
       "1.7441805621724635"
      ]
     },
     "execution_count": 28,
     "metadata": {},
     "output_type": "execute_result"
    }
   ],
   "source": [
    "#  Estimated annualized dividend yield \"dy\" as percentage:\n",
    "Edy = Elambda * (tailvalue(x[:last]) / tailvalue(p[:last])) * 100\n",
    "Edy"
   ]
  },
  {
   "cell_type": "markdown",
   "metadata": {},
   "source": [
    "Here we used a robust local estimate of lambda,\n",
    "the dividend payout ratio relative to earnings,\n",
    "to forecast dividend yield using the \"last\" known\n",
    "earnings and price levels.\n",
    "\n",
    "The history of dividend yields is examined in Appendix 3."
   ]
  },
  {
   "cell_type": "markdown",
   "metadata": {},
   "source": [
    "### Estimating earning growth\n",
    "\n",
    "We tested our model using the change in logarithmic earnings,\n",
    "so here we will use the geometric mean return on the localized raw data.\n",
    "\n",
    "The geometric return is akin to our logarithmic model,\n",
    "and is to be distinguished from the terrible arithmetic return,\n",
    "though it too can be expressed in percentage form."
   ]
  },
  {
   "cell_type": "code",
   "execution_count": 29,
   "metadata": {
    "collapsed": false
   },
   "outputs": [
    {
     "data": {
      "text/plain": [
       "[1.13, 1.21, 4.02, 12, 36, '2013-03-01', '2016-02-01']"
      ]
     },
     "execution_count": 29,
     "metadata": {},
     "output_type": "execute_result"
    }
   ],
   "source": [
    "#  Get more info by executing: georet??\n",
    "Xgeoret = georet( tail(x[:last], nlocal), yearly=12 )\n",
    "Xgeoret"
   ]
  },
  {
   "cell_type": "code",
   "execution_count": 30,
   "metadata": {
    "collapsed": false
   },
   "outputs": [
    {
     "data": {
      "text/plain": [
       "1.13"
      ]
     },
     "execution_count": 30,
     "metadata": {},
     "output_type": "execute_result"
    }
   ],
   "source": [
    "#  Geometric return is expressed as percentage,\n",
    "#  so here is our estimator for big X:\n",
    "EX = Xgeoret[0]\n",
    "EX"
   ]
  },
  {
   "cell_type": "markdown",
   "metadata": {},
   "source": [
    "### Estimating growth of price/earnings ratio\n",
    "\n",
    "We tested our model using the change in logarithmic price/earnings ratio,\n",
    "so here we will use the geometric mean return on the localized raw data."
   ]
  },
  {
   "cell_type": "code",
   "execution_count": 31,
   "metadata": {
    "collapsed": false
   },
   "outputs": [
    {
     "data": {
      "text/plain": [
       "[5.89, 6.22, 8.19, 12, 36, '2013-03-01', '2016-02-01']"
      ]
     },
     "execution_count": 31,
     "metadata": {},
     "output_type": "execute_result"
    }
   ],
   "source": [
    "#  yearly argument in georet annualizes:\n",
    "Sgeoret = georet( tail(s[:last], nlocal), yearly=12 )\n",
    "Sgeoret"
   ]
  },
  {
   "cell_type": "code",
   "execution_count": 32,
   "metadata": {
    "collapsed": false
   },
   "outputs": [
    {
     "data": {
      "text/plain": [
       "5.89"
      ]
     },
     "execution_count": 32,
     "metadata": {},
     "output_type": "execute_result"
    }
   ],
   "source": [
    "#  Geometric return is expressed as percentage,\n",
    "#  so here our estimator for big S:\n",
    "ES = Sgeoret[0]\n",
    "ES"
   ]
  },
  {
   "cell_type": "markdown",
   "metadata": {},
   "source": [
    "## Combining the estimates for a forecast\n",
    "\n",
    "In terms of our Python variables, here is our model:\n",
    "\n",
    "$$ \\hat{T} = \\hat{X} + \\hat{S} + \\hat{dy} $$\n",
    "\n",
    "where an \"E\" prefix is used to represent estimated hat variables."
   ]
  },
  {
   "cell_type": "code",
   "execution_count": 33,
   "metadata": {
    "collapsed": false
   },
   "outputs": [
    {
     "data": {
      "text/plain": [
       "8.7641805621724629"
      ]
     },
     "execution_count": 33,
     "metadata": {},
     "output_type": "execute_result"
    }
   ],
   "source": [
    "# FORECAST of TOTAL RETURN, finally...\n",
    "ET = EX + ES + Edy\n",
    "ET"
   ]
  },
  {
   "cell_type": "code",
   "execution_count": 34,
   "metadata": {
    "collapsed": false
   },
   "outputs": [
    {
     "name": "stdout",
     "output_type": "stream",
     "text": [
      "FORECAST SUMMARY, given last data point on 2100-01-01\n",
      "TOTAL RETURN (per annum) forecast:  8.76418056217 %\n",
      "    - Enterprise return portion of total:   0.128933902261\n",
      "    - Speculative return portion of total:  0.672053702935\n",
      "    - Dividend yield portion of total:      0.199012394804\n",
      "Estimated dividend yield:   1.74418056217 %\n",
      "Estimated dividend payout ratio: 0.3661035 (relative to earnings)\n",
      "Last price/earnings ratio: 20.99\n"
     ]
    }
   ],
   "source": [
    "print(\"FORECAST SUMMARY, given 'last' set at\", last)\n",
    "print(\"TOTAL RETURN (per annum) forecast: \", ET, \"%\")\n",
    "print(\"    - Enterprise return:  \", EX, \"%\")\n",
    "print(\"    - Speculative return: \", ES, \"%\")\n",
    "print(\"    - Dividend yield:     \", Edy, \"%\")\n",
    "print(\"Dividend payout ratio:\", Elambda, \"(relative to earnings)\")\n",
    "print(\"Price/earnings ratio, last:\", tailvalue( s[:last] ))"
   ]
  },
  {
   "cell_type": "markdown",
   "metadata": {},
   "source": [
    "### 2016-03-18 Remarks on last=\"2016-02-01\" Forecast\n",
    "\n",
    "- Enterprise return is weak since earnings growth is below the inflation rate!\n",
    "- Current price/earnings stands at 21.0 (compared to 15 historically).\n",
    "- Speculative return portion of projected total return seems very high."
   ]
  },
  {
   "cell_type": "markdown",
   "metadata": {},
   "source": [
    "## Appendix 1: Comparison to univariate forecast\n",
    "\n",
    "Let us apply the Holt-Winters method to logarithmic price alone.\n",
    "This is a pure time-series technique for the purpose of cross-checking\n",
    "the multivariate regression model which we used for forecasting."
   ]
  },
  {
   "cell_type": "code",
   "execution_count": 35,
   "metadata": {
    "collapsed": false
   },
   "outputs": [],
   "source": [
    "#  Forecast 12-months ahead:\n",
    "fc = forecast( plog[:last], h=12 )"
   ]
  },
  {
   "cell_type": "code",
   "execution_count": 36,
   "metadata": {
    "collapsed": false
   },
   "outputs": [],
   "source": [
    "## Uncomment to see forecasts:\n",
    "# fc"
   ]
  },
  {
   "cell_type": "code",
   "execution_count": 37,
   "metadata": {
    "collapsed": false
   },
   "outputs": [
    {
     "data": {
      "text/plain": [
       "Forecast   -0.053103\n",
       "dtype: float64"
      ]
     },
     "execution_count": 37,
     "metadata": {},
     "output_type": "execute_result"
    }
   ],
   "source": [
    "#  Change in logarithmic price:\n",
    "fc.loc[12] - fc.loc[0]"
   ]
  },
  {
   "cell_type": "code",
   "execution_count": 38,
   "metadata": {
    "collapsed": false
   },
   "outputs": [
    {
     "data": {
      "text/plain": [
       "'2100-01-01'"
      ]
     },
     "execution_count": 38,
     "metadata": {},
     "output_type": "execute_result"
    }
   ],
   "source": [
    "last"
   ]
  },
  {
   "cell_type": "markdown",
   "metadata": {},
   "source": [
    "2016-03-18: The forecasted price return is about -5.31% per annum,\n",
    "so adding the estimated dividend yield of +1.74%,\n",
    "the forecasted total return is -3.57%.\n",
    "Thus the univariate method on price alone differs considerably from\n",
    "our multivariate model which forecasted +8.76% for total return.\n",
    "\n",
    "*Averaging forecasts from different techniques usually increases accuracy.*\n",
    "Combining the point forecasts for total return from two models:\n",
    "+2.6% average.\n"
   ]
  },
  {
   "cell_type": "markdown",
   "metadata": {},
   "source": [
    "## Appendix 2: Historical enterprise and speculative returns\n",
    "\n",
    "We examine their respective geometric mean returns\n",
    "over the entire Shiller database."
   ]
  },
  {
   "cell_type": "code",
   "execution_count": 39,
   "metadata": {
    "collapsed": false
   },
   "outputs": [
    {
     "data": {
      "text/plain": [
       "[3.62, 4.64, 14.31, 12, 1742, '1871-01-01', '2016-02-01']"
      ]
     },
     "execution_count": 39,
     "metadata": {},
     "output_type": "execute_result"
    }
   ],
   "source": [
    "#  Enterprise return since 1871:\n",
    "georet( x, yearly=12 )"
   ]
  },
  {
   "cell_type": "code",
   "execution_count": 40,
   "metadata": {
    "collapsed": false
   },
   "outputs": [
    {
     "data": {
      "text/plain": [
       "[0.42, 2.06, 18.1, 12, 1742, '1871-01-01', '2016-02-01']"
      ]
     },
     "execution_count": 40,
     "metadata": {},
     "output_type": "execute_result"
    }
   ],
   "source": [
    "#  Speculative return since 1871:\n",
    "georet( s, yearly=12 )"
   ]
  },
  {
   "cell_type": "markdown",
   "metadata": {},
   "source": [
    "By examining their geometric mean returns,\n",
    "we see that enterprise returns (3.62%) contributes far more\n",
    "to the total return than speculative returns (0.42%).\n",
    "\n",
    "Our georet() also computes arithmetic mean return\n",
    "and its standard deviation (second and third\n",
    "elements respectively). Speculative returns\n",
    "contributes more volatility in observed\n",
    "total returns than enterprise returns."
   ]
  },
  {
   "cell_type": "markdown",
   "metadata": {},
   "source": [
    "## Appendix 3: Dividend yield historically\n",
    "\n",
    "Among the three components of total return,\n",
    "the dividend yield has on average has made\n",
    "the largest contribution historically.\n",
    "Also, it has never contributed negatively\n",
    "to total return."
   ]
  },
  {
   "cell_type": "code",
   "execution_count": 41,
   "metadata": {
    "collapsed": true
   },
   "outputs": [],
   "source": [
    "#  Express dividend yield as percentage per annum:\n",
    "dy = todf( (d/p) * 100 )"
   ]
  },
  {
   "cell_type": "code",
   "execution_count": 42,
   "metadata": {
    "collapsed": false
   },
   "outputs": [
    {
     "name": "stdout",
     "output_type": "stream",
     "text": [
      "                 Y\n",
      "count  1740.000000\n",
      "mean      4.396557\n",
      "std       1.686881\n",
      "min       1.110000\n",
      "25%       3.220000\n",
      "50%       4.340000\n",
      "75%       5.410000\n",
      "max      13.840000\n"
     ]
    }
   ],
   "source": [
    "stat( dy )"
   ]
  },
  {
   "cell_type": "markdown",
   "metadata": {},
   "source": [
    "**The average dividend yield since 1871 has been 4.4% per annum.**\n",
    "But the plot of the exponentially smoothed values seems to\n",
    "indicate a steady decline over time.\n",
    "\n",
    "*Continuance of such a decline in dividend yield would then make\n",
    "earnings growth the main driver of total return\n",
    "in the 21st century.*"
   ]
  },
  {
   "cell_type": "code",
   "execution_count": 43,
   "metadata": {
    "collapsed": false
   },
   "outputs": [
    {
     "data": {
      "image/png": "[encoded data removed]",
      "text/plain": [
       "<matplotlib.figure.Figure at 0xabcb88ec>"
      ]
     },
     "metadata": {},
     "output_type": "display_data"
    }
   ],
   "source": [
    "#  History of dividend yields:\n",
    "plot( ema(dy, alpha=0.10) )\n",
    "#     ema means Exponential Moving Average."
   ]
  },
  {
   "cell_type": "markdown",
   "metadata": {},
   "source": [
    "## References\n",
    "\n",
    "- Bogle, John C. and Michael W. Nolan, Jr., 2015, \"Occam’s Razor Redux: Establishing Reasonable Expectations for Financial Market Returns,\" *Journal of Portfolio Management* 42, 119-134. http://www.iijournals.com/doi/full/10.3905/jpm.2015.42.1.119 \n",
    "\n",
    "\n",
    "- Keynes, John Maynard, 1936, *General Theory of Employment, Interest, and Money*, MacMillan, London.\n",
    "\n",
    "Keynes (1936) enumerated two sources of stock returns: **enterprise** and **speculative**.\n",
    "Enterprise refers to the actual business results of corporations.\n",
    "Speculation, on the other hand, involved “forecasting the psychology of the market,”\n",
    "the ephemeral, emotional response of investors seeking to\n",
    "anticipate how other investors will react to particular events.\n",
    "\n",
    "Keynes made no known attempt to quantify the distinction between\n",
    "enterprise and speculation, so Bogle tackled the task\n",
    "by developing his BSRM/S model,\n",
    "\"*Bogle Sources of Return Model for Stocks*.\" \n",
    "\n",
    "Bogle (2015) states: \n",
    "\n",
    "> *\"**The sheer simplicity of the BSRM/S commends it over\n",
    "highly complex models, none of which (as far as we can determine)\n",
    "has offered similar accuracy.**\"*\n",
    "\n",
    "This is quite a claim since Bogle\n",
    "has been involved in finance since 1951 (Princeton honors thesis),\n",
    "and is the founder of The Vanguard Group.\n",
    "\n",
    "Bogle (2015) does not show how he arrived at his model mathematically:\n",
    "\n",
    "> \"Although we find this validation of the model gratifying,\n",
    "we suspect a fit this close to the actual total return has a lot to do with *luck*.\"\n",
    "\n",
    "Perhaps he was lucky in terms of small errors between\n",
    "realized and out-of-samples results,\n",
    "but the analytics as shown in this notebook is sound.\n",
    "\n",
    "#### Summary of previous works\n",
    "\n",
    "John Bogle sought a deeper reasoning behind his expectations\n",
    "of future total return from a portfolio of equities.\n",
    "A sample explanation could be phrased as follows:\n",
    "\"I expect annual earning growth of 8%,\n",
    "and in ten years a terminal price/earning ratio of 14 --\n",
    "given that ratio is 15.5 currently,\n",
    "such a 1% reduction per annum will decrease\n",
    "the total return by like amount.\n",
    "Therefore, with a dividend yield of 3%,\n",
    "my expected total return is 8% - 1% + 3% = 10%\n",
    "over the coming decade.\"\n",
    "\n",
    "This notebook shows the (arithmetic) percentage reasoning\n",
    "is prone is large errors, whereas a logarithmic (geometric) version\n",
    "is exact. Shiller's reconstructed data since 1871 allows us to examine\n",
    "the separable components of total return:\n",
    "enterprise and speculative returns, plus dividend yield.\n",
    "An understanding of their respective contributions\n",
    "helps us to form better informed expectations of\n",
    "future total return on equities.\n"
   ]
  }
 ],
 "metadata": {
  "kernelspec": {
   "display_name": "Python 2",
   "language": "python",
   "name": "python2"
  },
  "language_info": {
   "codemirror_mode": {
    "name": "ipython",
    "version": 2
   },
   "file_extension": ".py",
   "mimetype": "text/x-python",
   "name": "python",
   "nbconvert_exporter": "python",
   "pygments_lexer": "ipython2",
   "version": "2.7.15rc1"
  }
 },
 "nbformat": 4,
 "nbformat_minor": 2
}
