{
 "cells": [
  {
   "cell_type": "code",
   "execution_count": 1,
   "metadata": {},
   "outputs": [
    {
     "data": {
      "text/html": [
       "<style>.container { width:100% !important; }</style>"
      ],
      "text/plain": [
       "<IPython.core.display.HTML object>"
      ]
     },
     "metadata": {},
     "output_type": "display_data"
    }
   ],
   "source": [
    "from IPython.core.display import display, HTML # full-width cells\n",
    "display(HTML(\"<style>.container { width:100% !important; }</style>\"))\n",
    "%matplotlib inline\n",
    "from datetime import datetime\n",
    "import numpy as np\n",
    "import pandas as pd\n",
    "import matplotlib.pyplot as plt\n",
    "import seaborn as sns"
   ]
  },
  {
   "cell_type": "markdown",
   "metadata": {},
   "source": [
    "## Import data"
   ]
  },
  {
   "cell_type": "markdown",
   "metadata": {},
   "source": [
    "For convenience we add some time-series functionality to our default data-storage object, `df`. This lets us down/upsample, format times for plotting purposes, sample specific periods/at certain frequencies, etc."
   ]
  },
  {
   "cell_type": "code",
   "execution_count": 2,
   "metadata": {
    "scrolled": true
   },
   "outputs": [],
   "source": [
    "df = pd.read_csv('data/raw_cycles.csv', header=0).drop(index=[0])\n",
    "df = df.apply(pd.to_numeric, errors='coerce')\n",
    "df['Datetime'] = pd.to_datetime(df['Time'], unit='s')\n",
    "#df.index = df['Datetime']; del df['Datetime']"
   ]
  },
  {
   "cell_type": "markdown",
   "metadata": {},
   "source": [
    "We drop the first cycle - it corresponds to Instron initialization and produces spurious results."
   ]
  },
  {
   "cell_type": "code",
   "execution_count": 3,
   "metadata": {},
   "outputs": [],
   "source": [
    "#df = df.drop([df.index.values[0],19])\n",
    "#df.reset_index();"
   ]
  },
  {
   "cell_type": "markdown",
   "metadata": {},
   "source": [
    "### Minima,  maxima\n",
    "Extrema are one-hot encoded categorical variables; cycles begin at a minimum, change direction at a maximum, and end at the following minimum."
   ]
  },
  {
   "cell_type": "code",
   "execution_count": 4,
   "metadata": {},
   "outputs": [],
   "source": [
    "from scipy.signal import argrelextrema as extrema\n",
    "from sklearn.preprocessing import LabelBinarizer"
   ]
  },
  {
   "cell_type": "code",
   "execution_count": 5,
   "metadata": {},
   "outputs": [
    {
     "name": "stderr",
     "output_type": "stream",
     "text": [
      "/home/nwchen/.local/lib/python3.5/site-packages/pandas/core/indexing.py:194: SettingWithCopyWarning: \n",
      "A value is trying to be set on a copy of a slice from a DataFrame\n",
      "\n",
      "See the caveats in the documentation: http://pandas.pydata.org/pandas-docs/stable/indexing.html#indexing-view-versus-copy\n",
      "  self._setitem_with_indexer(indexer, value)\n"
     ]
    }
   ],
   "source": [
    "order = 100\n",
    "minima = extrema(df['Load'].values, comparator=np.less, order=order)[0].tolist()\n",
    "maxima = extrema(df['Load'].values, comparator=np.greater, order=order)[0].tolist()\n",
    "df['Min'] = 0; df['Min'].iloc[minima] = 1\n",
    "df['Max'] = 0; df['Max'].iloc[maxima] = 1"
   ]
  },
  {
   "cell_type": "markdown",
   "metadata": {},
   "source": [
    "### Cycle labels\n",
    "Cycles begin and end at consecutive minima. Cycles are labeled at the time marking their beginning, i.e. at the first minima, up to and excluding the next minima."
   ]
  },
  {
   "cell_type": "code",
   "execution_count": 6,
   "metadata": {},
   "outputs": [],
   "source": [
    "col = np.empty((df.shape[0],), dtype=int); col[:] = np.nan\n",
    "for i in range(1, len(minima)):\n",
    "    col[minima[i-1]:minima[i]] = i\n",
    "df = df.assign(Cycle=pd.Series(col, index=df.index))"
   ]
  },
  {
   "cell_type": "markdown",
   "metadata": {},
   "source": [
    "### Area under curve\n",
    "Areas are either a `float` or `NaN`. Since each cycle has one area value, that value lives in the same row as the `Min` at which the cycle began."
   ]
  },
  {
   "cell_type": "code",
   "execution_count": 7,
   "metadata": {},
   "outputs": [],
   "source": [
    "# This generator function keeps track of state, and lets us iterate through values in a lambda expression.\n",
    "def gen_index():\n",
    "    length = len(df[df['Min']==1])\n",
    "    for i in range(length):\n",
    "        yield i"
   ]
  },
  {
   "cell_type": "code",
   "execution_count": 8,
   "metadata": {},
   "outputs": [],
   "source": [
    "areas = np.zeros((df.Cycle.max(),))\n",
    "for cycle in range(df.Cycle.max()):\n",
    "    cycle_load = df[df.Cycle==cycle].Load.as_matrix()\n",
    "    cycle_time = df[df.Cycle==cycle].Time.as_matrix()\n",
    "    areas[cycle] = np.trapz(cycle_load, cycle_time)\n",
    "areas = areas.tolist(); areas.append(0)"
   ]
  },
  {
   "cell_type": "code",
   "execution_count": 9,
   "metadata": {},
   "outputs": [],
   "source": [
    "gen = gen_index()\n",
    "df['Area'] = df[df['Min']==1].apply(lambda row: areas[next(gen)], axis=1)"
   ]
  },
  {
   "cell_type": "markdown",
   "metadata": {},
   "source": [
    "### Heating and cooling time"
   ]
  },
  {
   "cell_type": "code",
   "execution_count": 10,
   "metadata": {},
   "outputs": [],
   "source": [
    "heatings = np.zeros((df.Cycle.max(),)) # curve_max - curve_min\n",
    "for cycle in range(1, df.Cycle.max()):\n",
    "    h_0 = df.loc[(df['Cycle']==cycle) & (df['Min']==1)]['Time'].values[0]\n",
    "    h_1 = df.loc[(df['Cycle']==cycle) & (df['Max']==1)]['Time'].values[0]\n",
    "    heatings[cycle] = h_1 - h_0\n",
    "heatings = heatings.tolist(); heatings.append(0)"
   ]
  },
  {
   "cell_type": "code",
   "execution_count": 11,
   "metadata": {},
   "outputs": [],
   "source": [
    "gen = gen_index()\n",
    "df['Heating'] = df[df['Min']==1].apply(lambda row: heatings[next(gen)], axis=1)"
   ]
  },
  {
   "cell_type": "code",
   "execution_count": 12,
   "metadata": {},
   "outputs": [],
   "source": [
    "coolings = np.zeros((df.Cycle.max(),)) # curve_max - curve_min\n",
    "for cycle in range(1, df.Cycle.max()):\n",
    "    c_0 = df.loc[(df['Cycle']==cycle) & (df['Max']==1)]['Time'].values[0]\n",
    "    c_1 = df.loc[df['Cycle']==cycle].iloc[-1]['Time']\n",
    "    coolings[cycle] = c_1 - c_0\n",
    "coolings = coolings.tolist(); coolings.append(0)"
   ]
  },
  {
   "cell_type": "code",
   "execution_count": 13,
   "metadata": {},
   "outputs": [],
   "source": [
    "gen = gen_index()\n",
    "df['Cooling'] = df[df['Min']==1].apply(lambda row: coolings[next(gen)], axis=1)"
   ]
  },
  {
   "cell_type": "markdown",
   "metadata": {},
   "source": [
    "### Heating/cooling proportion $ = \\frac{heating time}{cooling time}$"
   ]
  },
  {
   "cell_type": "code",
   "execution_count": 14,
   "metadata": {},
   "outputs": [],
   "source": [
    "props = [h/c if c>0 else np.nan for (h, c) in zip(heatings, coolings)]\n",
    "gen = gen_index()\n",
    "df['HCprop'] = df[df['Min']==1].apply(lambda row: props[next(gen)], axis=1)"
   ]
  },
  {
   "cell_type": "markdown",
   "metadata": {},
   "source": [
    "### Cycle period\n",
    "This feature is linearly dependent on `heating time` and `cooling time`, but we include it for visualisation/debugging purposes."
   ]
  },
  {
   "cell_type": "code",
   "execution_count": 15,
   "metadata": {},
   "outputs": [],
   "source": [
    "df['Period'] = df[df['Min']==1].apply(lambda row: row['Heating']+row['Cooling'], axis=1)"
   ]
  },
  {
   "cell_type": "markdown",
   "metadata": {},
   "source": [
    "### 10% Load Time\n",
    "The length of the period over which `Load` is less than 10% of the max load of the cycle. We normalize max load to cycle `max - min`."
   ]
  },
  {
   "cell_type": "code",
   "execution_count": 16,
   "metadata": {},
   "outputs": [],
   "source": [
    "tails = np.zeros((df.Cycle.max(),))\n",
    "for cycle in range(1, df.Cycle.max()):\n",
    "    maximum = df.loc[(df['Cycle']==cycle) & (df['Max']==1)]['Load'].values[0]\n",
    "    minimum = df.loc[(df['Cycle']==cycle) & (df['Min']==1)]['Load'].values[0]\n",
    "    time_at_max = df.loc[(df['Cycle']==cycle) & (df['Max']==1)]['Time'].values[0]\n",
    "    tenp = 1.0 * (maximum - minimum)\n",
    "    t_0 = df.loc[(df['Cycle']==cycle) & (df['Time']>(time_at_max)) & (df['Load']<(tenp+minimum))]['Time'].values[0]\n",
    "    t_1 = df.loc[df['Cycle']==cycle].iloc[-1]['Time']\n",
    "    tails[cycle] = t_1 - t_0\n",
    "tails = tails.tolist(); tails.append(0)"
   ]
  },
  {
   "cell_type": "code",
   "execution_count": 17,
   "metadata": {},
   "outputs": [],
   "source": [
    "gen = gen_index()\n",
    "df['Tail'] = df[df['Min']==1].apply(lambda row: tails[next(gen)], axis=1)"
   ]
  },
  {
   "cell_type": "markdown",
   "metadata": {},
   "source": [
    "### Belly of curve\n",
    "The belly of the curve is the area between the curve as it decreases (cools), and the line joining the max and tail-end min of the curve."
   ]
  },
  {
   "cell_type": "code",
   "execution_count": 18,
   "metadata": {},
   "outputs": [],
   "source": [
    "bellies = np.zeros((df.Cycle.max(),))\n",
    "for cycle in range(1, df.Cycle.max()):\n",
    "    maximum = df.loc[(df['Cycle']==cycle) & (df['Max']==1)]\n",
    "    minimum = df.loc[(df['Cycle']==cycle) & (df['Min']==1)]\n",
    "    y = df.loc[(df['Cycle']==cycle)]['Load'].as_matrix()\n",
    "    line = np.linspace(maximum['Load'].values[0], minimum['Load'].values[0], y.shape[0])\n",
    "    bellies[cycle] = np.trapz(line, y)\n",
    "bellies = bellies.tolist(); bellies.append(0)"
   ]
  },
  {
   "cell_type": "code",
   "execution_count": 19,
   "metadata": {},
   "outputs": [],
   "source": [
    "gen = gen_index()\n",
    "df['Belly'] = df[df['Min']==1].apply(lambda row: bellies[next(gen)], axis=1)"
   ]
  },
  {
   "cell_type": "markdown",
   "metadata": {},
   "source": [
    "## Plot results"
   ]
  },
  {
   "cell_type": "code",
   "execution_count": 20,
   "metadata": {},
   "outputs": [
    {
     "ename": "AttributeError",
     "evalue": "Unknown property fontsize",
     "output_type": "error",
     "traceback": [
      "\u001b[0;31m---------------------------------------------------------------------------\u001b[0m",
      "\u001b[0;31mAttributeError\u001b[0m                            Traceback (most recent call last)",
      "\u001b[0;32m<ipython-input-20-062dd67c16af>\u001b[0m in \u001b[0;36m<module>\u001b[0;34m()\u001b[0m\n\u001b[1;32m      3\u001b[0m \u001b[0mfontsize\u001b[0m\u001b[0;34m=\u001b[0m\u001b[0;36m18\u001b[0m\u001b[0;34m\u001b[0m\u001b[0m\n\u001b[1;32m      4\u001b[0m \u001b[0msns\u001b[0m\u001b[0;34m.\u001b[0m\u001b[0mregplot\u001b[0m\u001b[0;34m(\u001b[0m\u001b[0;34m'Time'\u001b[0m\u001b[0;34m,\u001b[0m \u001b[0;34m'Heating'\u001b[0m\u001b[0;34m,\u001b[0m \u001b[0mdf\u001b[0m\u001b[0;34m,\u001b[0m \u001b[0mfit_reg\u001b[0m\u001b[0;34m=\u001b[0m\u001b[0;32mFalse\u001b[0m\u001b[0;34m,\u001b[0m \u001b[0max\u001b[0m\u001b[0;34m=\u001b[0m\u001b[0maxes\u001b[0m\u001b[0;34m.\u001b[0m\u001b[0mflat\u001b[0m\u001b[0;34m[\u001b[0m\u001b[0;36m0\u001b[0m\u001b[0;34m]\u001b[0m\u001b[0;34m,\u001b[0m \u001b[0mlabel\u001b[0m\u001b[0;34m=\u001b[0m\u001b[0;34m'Heating'\u001b[0m\u001b[0;34m)\u001b[0m\u001b[0;34m;\u001b[0m \u001b[0msns\u001b[0m\u001b[0;34m.\u001b[0m\u001b[0mregplot\u001b[0m\u001b[0;34m(\u001b[0m\u001b[0;34m'Time'\u001b[0m\u001b[0;34m,\u001b[0m \u001b[0;34m'Cooling'\u001b[0m\u001b[0;34m,\u001b[0m \u001b[0mdf\u001b[0m\u001b[0;34m,\u001b[0m \u001b[0mfit_reg\u001b[0m\u001b[0;34m=\u001b[0m\u001b[0;32mFalse\u001b[0m\u001b[0;34m,\u001b[0m \u001b[0max\u001b[0m\u001b[0;34m=\u001b[0m\u001b[0maxes\u001b[0m\u001b[0;34m.\u001b[0m\u001b[0mflat\u001b[0m\u001b[0;34m[\u001b[0m\u001b[0;36m0\u001b[0m\u001b[0;34m]\u001b[0m\u001b[0;34m,\u001b[0m \u001b[0mlabel\u001b[0m\u001b[0;34m=\u001b[0m\u001b[0;34m'Cooling'\u001b[0m\u001b[0;34m)\u001b[0m\u001b[0;34m\u001b[0m\u001b[0m\n\u001b[0;32m----> 5\u001b[0;31m \u001b[0mhandles\u001b[0m\u001b[0;34m,\u001b[0m \u001b[0mlabels\u001b[0m \u001b[0;34m=\u001b[0m \u001b[0maxes\u001b[0m\u001b[0;34m.\u001b[0m\u001b[0mflat\u001b[0m\u001b[0;34m[\u001b[0m\u001b[0;36m0\u001b[0m\u001b[0;34m]\u001b[0m\u001b[0;34m.\u001b[0m\u001b[0mget_legend_handles_labels\u001b[0m\u001b[0;34m(\u001b[0m\u001b[0;34m)\u001b[0m\u001b[0;34m;\u001b[0m \u001b[0maxes\u001b[0m\u001b[0;34m.\u001b[0m\u001b[0mflat\u001b[0m\u001b[0;34m[\u001b[0m\u001b[0;36m0\u001b[0m\u001b[0;34m]\u001b[0m\u001b[0;34m.\u001b[0m\u001b[0mset\u001b[0m\u001b[0;34m(\u001b[0m\u001b[0mxlabel\u001b[0m\u001b[0;34m=\u001b[0m\u001b[0;34m'Time (s)'\u001b[0m\u001b[0;34m,\u001b[0m \u001b[0mylabel\u001b[0m\u001b[0;34m=\u001b[0m\u001b[0;34m'Time (s)'\u001b[0m\u001b[0;34m,\u001b[0m \u001b[0mfontsize\u001b[0m\u001b[0;34m=\u001b[0m\u001b[0mfontsize\u001b[0m\u001b[0;34m)\u001b[0m\u001b[0;34m;\u001b[0m \u001b[0maxes\u001b[0m\u001b[0;34m.\u001b[0m\u001b[0mflat\u001b[0m\u001b[0;34m[\u001b[0m\u001b[0;36m0\u001b[0m\u001b[0;34m]\u001b[0m\u001b[0;34m.\u001b[0m\u001b[0mlegend\u001b[0m\u001b[0;34m(\u001b[0m\u001b[0mhandles\u001b[0m\u001b[0;34m,\u001b[0m \u001b[0mlabels\u001b[0m\u001b[0;34m)\u001b[0m\u001b[0;34m\u001b[0m\u001b[0m\n\u001b[0m\u001b[1;32m      6\u001b[0m \u001b[0;34m\u001b[0m\u001b[0m\n\u001b[1;32m      7\u001b[0m \u001b[0msns\u001b[0m\u001b[0;34m.\u001b[0m\u001b[0mregplot\u001b[0m\u001b[0;34m(\u001b[0m\u001b[0;34m'Time'\u001b[0m\u001b[0;34m,\u001b[0m \u001b[0;34m'Area'\u001b[0m\u001b[0;34m,\u001b[0m \u001b[0mdf\u001b[0m\u001b[0;34m,\u001b[0m \u001b[0mfit_reg\u001b[0m\u001b[0;34m=\u001b[0m\u001b[0;32mFalse\u001b[0m\u001b[0;34m,\u001b[0m \u001b[0max\u001b[0m\u001b[0;34m=\u001b[0m\u001b[0maxes\u001b[0m\u001b[0;34m.\u001b[0m\u001b[0mflat\u001b[0m\u001b[0;34m[\u001b[0m\u001b[0;36m1\u001b[0m\u001b[0;34m]\u001b[0m\u001b[0;34m,\u001b[0m \u001b[0mlabel\u001b[0m\u001b[0;34m=\u001b[0m\u001b[0;34m'Area under curve'\u001b[0m\u001b[0;34m)\u001b[0m\u001b[0;34m\u001b[0m\u001b[0m\n",
      "\u001b[0;32m~/.local/lib/python3.5/site-packages/matplotlib/artist.py\u001b[0m in \u001b[0;36mset\u001b[0;34m(self, **kwargs)\u001b[0m\n\u001b[1;32m   1007\u001b[0m                    key=lambda x: (self._prop_order.get(x[0], 0), x[0])))\n\u001b[1;32m   1008\u001b[0m \u001b[0;34m\u001b[0m\u001b[0m\n\u001b[0;32m-> 1009\u001b[0;31m         \u001b[0;32mreturn\u001b[0m \u001b[0mself\u001b[0m\u001b[0;34m.\u001b[0m\u001b[0mupdate\u001b[0m\u001b[0;34m(\u001b[0m\u001b[0mprops\u001b[0m\u001b[0;34m)\u001b[0m\u001b[0;34m\u001b[0m\u001b[0m\n\u001b[0m\u001b[1;32m   1010\u001b[0m \u001b[0;34m\u001b[0m\u001b[0m\n\u001b[1;32m   1011\u001b[0m     \u001b[0;32mdef\u001b[0m \u001b[0mfindobj\u001b[0m\u001b[0;34m(\u001b[0m\u001b[0mself\u001b[0m\u001b[0;34m,\u001b[0m \u001b[0mmatch\u001b[0m\u001b[0;34m=\u001b[0m\u001b[0;32mNone\u001b[0m\u001b[0;34m,\u001b[0m \u001b[0minclude_self\u001b[0m\u001b[0;34m=\u001b[0m\u001b[0;32mTrue\u001b[0m\u001b[0;34m)\u001b[0m\u001b[0;34m:\u001b[0m\u001b[0;34m\u001b[0m\u001b[0m\n",
      "\u001b[0;32m~/.local/lib/python3.5/site-packages/matplotlib/artist.py\u001b[0m in \u001b[0;36mupdate\u001b[0;34m(self, props)\u001b[0m\n\u001b[1;32m    900\u001b[0m         \u001b[0;32mtry\u001b[0m\u001b[0;34m:\u001b[0m\u001b[0;34m\u001b[0m\u001b[0m\n\u001b[1;32m    901\u001b[0m             ret = [_update_property(self, k, v)\n\u001b[0;32m--> 902\u001b[0;31m                    for k, v in props.items()]\n\u001b[0m\u001b[1;32m    903\u001b[0m         \u001b[0;32mfinally\u001b[0m\u001b[0;34m:\u001b[0m\u001b[0;34m\u001b[0m\u001b[0m\n\u001b[1;32m    904\u001b[0m             \u001b[0mself\u001b[0m\u001b[0;34m.\u001b[0m\u001b[0meventson\u001b[0m \u001b[0;34m=\u001b[0m \u001b[0mstore\u001b[0m\u001b[0;34m\u001b[0m\u001b[0m\n",
      "\u001b[0;32m~/.local/lib/python3.5/site-packages/matplotlib/artist.py\u001b[0m in \u001b[0;36m<listcomp>\u001b[0;34m(.0)\u001b[0m\n\u001b[1;32m    900\u001b[0m         \u001b[0;32mtry\u001b[0m\u001b[0;34m:\u001b[0m\u001b[0;34m\u001b[0m\u001b[0m\n\u001b[1;32m    901\u001b[0m             ret = [_update_property(self, k, v)\n\u001b[0;32m--> 902\u001b[0;31m                    for k, v in props.items()]\n\u001b[0m\u001b[1;32m    903\u001b[0m         \u001b[0;32mfinally\u001b[0m\u001b[0;34m:\u001b[0m\u001b[0;34m\u001b[0m\u001b[0m\n\u001b[1;32m    904\u001b[0m             \u001b[0mself\u001b[0m\u001b[0;34m.\u001b[0m\u001b[0meventson\u001b[0m \u001b[0;34m=\u001b[0m \u001b[0mstore\u001b[0m\u001b[0;34m\u001b[0m\u001b[0m\n",
      "\u001b[0;32m~/.local/lib/python3.5/site-packages/matplotlib/artist.py\u001b[0m in \u001b[0;36m_update_property\u001b[0;34m(self, k, v)\u001b[0m\n\u001b[1;32m    893\u001b[0m                 \u001b[0mfunc\u001b[0m \u001b[0;34m=\u001b[0m \u001b[0mgetattr\u001b[0m\u001b[0;34m(\u001b[0m\u001b[0mself\u001b[0m\u001b[0;34m,\u001b[0m \u001b[0;34m'set_'\u001b[0m \u001b[0;34m+\u001b[0m \u001b[0mk\u001b[0m\u001b[0;34m,\u001b[0m \u001b[0;32mNone\u001b[0m\u001b[0;34m)\u001b[0m\u001b[0;34m\u001b[0m\u001b[0m\n\u001b[1;32m    894\u001b[0m                 \u001b[0;32mif\u001b[0m \u001b[0;32mnot\u001b[0m \u001b[0mcallable\u001b[0m\u001b[0;34m(\u001b[0m\u001b[0mfunc\u001b[0m\u001b[0;34m)\u001b[0m\u001b[0;34m:\u001b[0m\u001b[0;34m\u001b[0m\u001b[0m\n\u001b[0;32m--> 895\u001b[0;31m                     \u001b[0;32mraise\u001b[0m \u001b[0mAttributeError\u001b[0m\u001b[0;34m(\u001b[0m\u001b[0;34m'Unknown property %s'\u001b[0m \u001b[0;34m%\u001b[0m \u001b[0mk\u001b[0m\u001b[0;34m)\u001b[0m\u001b[0;34m\u001b[0m\u001b[0m\n\u001b[0m\u001b[1;32m    896\u001b[0m                 \u001b[0;32mreturn\u001b[0m \u001b[0mfunc\u001b[0m\u001b[0;34m(\u001b[0m\u001b[0mv\u001b[0m\u001b[0;34m)\u001b[0m\u001b[0;34m\u001b[0m\u001b[0m\n\u001b[1;32m    897\u001b[0m \u001b[0;34m\u001b[0m\u001b[0m\n",
      "\u001b[0;31mAttributeError\u001b[0m: Unknown property fontsize"
     ]
    },
    {
     "data": {
      "image/png": "[encoded data removed]",
      "text/plain": [
       "<matplotlib.figure.Figure at 0x7f7064d6cf60>"
      ]
     },
     "metadata": {},
     "output_type": "display_data"
    }
   ],
   "source": [
    "fig, axes = plt.subplots(nrows=2, ncols=2, figsize=(30,20))\n",
    "sns.set(); sns.set_style('whitegrid')\n",
    "\n",
    "labels = [('Time (s)', 'Time(s)'), ('Time (s)', 'Load (N^2)'), ('Time (s)')]\n",
    "\n",
    "sns.regplot('Time', 'Heating', df, fit_reg=False, ax=axes.flat[0], label='Heating'); sns.regplot('Time', 'Cooling', df, fit_reg=False, ax=axes.flat[0], label='Cooling')\n",
    "handles, labels = axes.flat[0].get_legend_handles_labels(); \n",
    "axes.flat[0].set_xlabel='Time(s)'\n",
    "\n",
    "axes.flat[0].set(xlabel='Time (s)', ylabel='Time (s)', fontsize=fontsize); \n",
    "axes.flat[0].legend(handles, labels)\n",
    "\n",
    "sns.regplot('Time', 'Area', df, fit_reg=False, ax=axes.flat[1], label='Area under curve')\n",
    "sns.regplot('Time', 'Belly', df, fit_reg=False, ax=axes.flat[1], label='Belly of curve')\n",
    "handles, labels = axes.flat[1].get_legend_handles_labels(); axes.flat[1].set(xlabel='Time (s)', ylabel='Load (N)', fontsize=fontsize); axes.flat[1].legend(handles, labels)\n",
    "\n",
    "sns.regplot('Time', 'Tail', df, fit_reg=False, ax=axes.flat[2], label='Tail')\n",
    "sns.regplot('Time', 'Period', df, fit_reg=False, ax=axes.flat[2], label='Period')\n",
    "handles, labels = axes.flat[2].get_legend_handles_labels(); axes.flat[2].set(xlabel='Time (s)', ylabel='Load (N)', fontsize=fontsize); axes.flat[2].legend(handles, labels)\n",
    "\n",
    "sns.regplot('Time', 'Area', df, fit_reg=False, ax=axes.flat[3], label='Area')\n",
    "handles, labels = axes.flat[3].get_legend_handles_labels(); axes.flat[3].set(xlabel='Time (s)', ylabel='Load^2 (N)', fontsize=fontsize); axes.flat[3].legend(handles, labels)\n",
    "\n",
    "fig.savefig('images/features.png')"
   ]
  },
  {
   "cell_type": "code",
   "execution_count": null,
   "metadata": {},
   "outputs": [],
   "source": [
    "sns.regplot('Time', 'Heating', df, ax=axes.flat[0])\n",
    "sns.regplot('Time', 'Cooling', df, ax=axes.flat[0]);\n",
    "#sns.regplot('Time', 'Tail', df, ax=axes.flat[2])\n",
    "#sns.regplot('Time', 'Period', df, ax=axes.flat[0], label='Period')\n",
    "sns.regplot('Time', 'HCprop', df, ax=axes.flat[0], label='H/C')\n",
    "#sns.regplot('Time', 'Area', df, ax=axes.flat[1], label='Area')\n",
    "#sns.regplot('Time', 'Belly', df, ax=axes.flat[1], label='Belly')\n",
    "plt.legend()\n",
    "\n",
    "axes.flat[2].set_yticks(np.linspace(0,600,5))\n",
    "axes.flat[2].set_ylim(0, 600)\n",
    "#sns.regplot('Time', 'Heating', df, ax=axes.flat[2], label='Heating')\n",
    "#sns.regplot('Time', 'Cooling', df, ax=axes.flat[2], label='Cooling')\n",
    "sns.regplot('Time', 'Tail', df, ax=axes.flat[2], label='Tail')\n",
    "sns.regplot('Time', 'Period', df, ax=axes.flat[2], label='Period')\n",
    "sns.regplot('Time', 'Area', df, ax=axes.flat[2], label='Area')\n",
    "plt.legend()"
   ]
  },
  {
   "cell_type": "code",
   "execution_count": null,
   "metadata": {},
   "outputs": [],
   "source": [
    "sns.regplot('Time', 'Heating', df, ax=axes.flat[0])\n",
    "sns.regplot('Time', 'Cooling', df, ax=axes.flat[0]);"
   ]
  },
  {
   "cell_type": "code",
   "execution_count": null,
   "metadata": {},
   "outputs": [],
   "source": [
    "df.to_csv('data/cycles-with-features.csv')\n",
    "df[df['Min']==1]"
   ]
  },
  {
   "cell_type": "markdown",
   "metadata": {},
   "source": [
    "TODO: area under curve, heating time, cooling time, time of entire curve, time where <10% of force, belly of curve, heating time vs. entire cyle time, heating/cooling proportion wrt first curve"
   ]
  }
 ],
 "metadata": {
  "kernelspec": {
   "display_name": "Python 3",
   "language": "python",
   "name": "python3"
  },
  "language_info": {
   "codemirror_mode": {
    "name": "ipython",
    "version": 3
   },
   "file_extension": ".py",
   "mimetype": "text/x-python",
   "name": "python",
   "nbconvert_exporter": "python",
   "pygments_lexer": "ipython3",
   "version": "3.5.2"
  }
 },
 "nbformat": 4,
 "nbformat_minor": 2
}
